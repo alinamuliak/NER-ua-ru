{
 "cells": [
  {
   "cell_type": "code",
   "execution_count": 1,
   "metadata": {},
   "outputs": [
    {
     "name": "stderr",
     "output_type": "stream",
     "text": [
      "Some weights of BertForTokenClassification were not initialized from the model checkpoint at DeepPavlov/rubert-base-cased and are newly initialized: ['classifier.weight', 'classifier.bias']\n",
      "You should probably TRAIN this model on a down-stream task to be able to use it for predictions and inference.\n",
      "2023-12-17 18:07:33.308427: I tensorflow/core/util/port.cc:110] oneDNN custom operations are on. You may see slightly different numerical results due to floating-point round-off errors from different computation orders. To turn them off, set the environment variable `TF_ENABLE_ONEDNN_OPTS=0`.\n",
      "2023-12-17 18:07:33.328622: I tensorflow/core/platform/cpu_feature_guard.cc:182] This TensorFlow binary is optimized to use available CPU instructions in performance-critical operations.\n",
      "To enable the following instructions: AVX2 AVX_VNNI FMA, in other operations, rebuild TensorFlow with the appropriate compiler flags.\n",
      "2023-12-17 18:07:33.659006: W tensorflow/compiler/tf2tensorrt/utils/py_utils.cc:38] TF-TRT Warning: Could not find TensorRT\n",
      "/mnt/data/vprots/venv/lib/python3.8/site-packages/transformers/optimization.py:411: FutureWarning: This implementation of AdamW is deprecated and will be removed in a future version. Use the PyTorch implementation torch.optim.AdamW instead, or set `no_deprecation_warning=True` to disable this warning\n",
      "  warnings.warn(\n"
     ]
    }
   ],
   "source": [
    "import torch\n",
    "import json\n",
    "import ast\n",
    "from torch.utils.data import Dataset, DataLoader\n",
    "from transformers import BertTokenizer, BertForTokenClassification, AdamW\n",
    "from sklearn.model_selection import train_test_split\n",
    "from sklearn.preprocessing import LabelEncoder\n",
    "from tqdm import tqdm\n",
    "import pandas as pd\n",
    "import numpy as np\n",
    "import re\n",
    "import time\n",
    "import seaborn as sns\n",
    "import matplotlib.pyplot as plt\n",
    "\n",
    "def process_punct(row):\n",
    "    rem_sym = [',', '.', '!', '?']\n",
    "    for p in rem_sym:\n",
    "        row = row.replace(p, '')\n",
    "    return row\n",
    "\n",
    "def hard_processing(text):\n",
    "    text = re.sub(r\"[{re.escape(string.punctuation)}]\", \"\", text)\n",
    "    text = re.sub(r'\\d', '', text)\n",
    "    text = re.sub(r'\\b\\w\\b\\s?', '', text)\n",
    "    text = re.sub(r'\\s+', ' ', text).strip()\n",
    "    return text.lower()\n",
    "\n",
    "def comp_metric(y_true, y_pred):\n",
    "    assert len(y_true) == len(y_pred)\n",
    "    tp, fp, fn, p,  = 0.0, 0.0, 0.0, 0.0\n",
    "\n",
    "    for y_true_sample, y_pred_sample in zip(y_true, y_pred):\n",
    "        y_true_sample = set([hard_processing(s) for s in y_true_sample])\n",
    "        y_pred_sample = set([hard_processing(s) for s in y_pred_sample])\n",
    "\n",
    "        tp += len(y_true_sample & y_pred_sample)\n",
    "        fp += len(y_pred_sample - y_true_sample)\n",
    "        fn += len(y_true_sample - y_pred_sample)\n",
    "        p += len(y_true_sample)\n",
    "\n",
    "    if tp + fp == 0:\n",
    "        if p == 0:\n",
    "            precision = 1.0\n",
    "        else:\n",
    "            precision = 0.0\n",
    "    else:\n",
    "        precision = tp/(tp + fp)\n",
    "\n",
    "    if tp + fn == 0:\n",
    "        if p == 0:\n",
    "            recall = 1.0\n",
    "        else:\n",
    "            recall = 0.0\n",
    "    else:\n",
    "        recall = tp/(tp + fn)\n",
    "\n",
    "    if precision + recall == 0:\n",
    "        f1 = 0\n",
    "    else:\n",
    "        f1 = 2 * precision * recall / (precision + recall)\n",
    "    return round(f1, 8)\n",
    "\n",
    "BASE_PATH = 'nlp_data'\n",
    "MAX_LEN = 16\n",
    "TRAIN_BATCH_SIZE = 5\n",
    "VAL_BATCH_SIZE = 5\n",
    "EPOCHS = 3\n",
    "start = time.time()\n",
    "df_r = pd.read_csv(f'{BASE_PATH}/uk_geo_dataset.csv')\n",
    "data_r = df_r[['text', 'loc_markers']].iloc[:10000, :]\n",
    "\n",
    "tokenizer = BertTokenizer.from_pretrained(\"DeepPavlov/rubert-base-cased\")\n",
    "model = BertForTokenClassification.from_pretrained(\"DeepPavlov/rubert-base-cased\", num_labels=3)\n",
    "\n",
    "data_r['prep_text'] = data_r['text'].apply(process_punct)\n",
    "\n",
    "tokenized_r = tokenizer(data_r['prep_text'].tolist(), return_tensors='pt', padding='max_length', truncation=True, max_length=MAX_LEN)\n",
    "\n",
    "# raise ConnectionAbortedError\n",
    "tokens = []\n",
    "bio_labels = []\n",
    "for ids in tokenized_r['input_ids']:\n",
    "    decoded = tokenizer.decode(ids.tolist(), skip_special_tokens=True)\n",
    "    tokens.append(decoded.split())\n",
    "    bio_labels.append(['O'] * len(decoded.split()))\n",
    "\n",
    "\n",
    "for sample_idx, sample in enumerate(data_r['loc_markers'].tolist()):\n",
    "    locations = ast.literal_eval(sample)\n",
    "    for loc_idx, loc in enumerate(locations):\n",
    "        loc_text = data_r['text'].tolist()[sample_idx][loc[0]:loc[1]]\n",
    "        words_in_loc_text = loc_text.count(' ')\n",
    "        if words_in_loc_text > 0:\n",
    "            indexes = [(i, i + words_in_loc_text) for i in range(len(tokens[sample_idx])-words_in_loc_text) if ' '.join([tokens[sample_idx][i+j] for j in range(words_in_loc_text + 1)])  == loc_text]\n",
    "        else:\n",
    "            indexes = [i for i, token in enumerate(tokens[sample_idx]) if token == loc_text]\n",
    "\n",
    "        for index in indexes:\n",
    "            if isinstance(index, int):\n",
    "                bio_labels[sample_idx][index] = 'B-LOC'\n",
    "            else:\n",
    "                for inner_idx in range(index[0], index[1]+1):\n",
    "                    if inner_idx == index[0]:\n",
    "                        bio_labels[sample_idx][inner_idx] = 'B-LOC'\n",
    "                    else:\n",
    "                        bio_labels[sample_idx][inner_idx] = 'I-LOC'\n",
    "\n",
    "label2id = {'O': 0, 'B-LOC': 1, 'I-LOC': 2}\n",
    "converted = []\n",
    "for sample in bio_labels:\n",
    "    temp = []\n",
    "    for label in sample:\n",
    "        temp.append(label2id[label])\n",
    "    converted.append(temp)\n",
    "data_r['prep_labels'] = converted\n",
    "# print(data_r.head(5))\n",
    "\n",
    "class NERDataset(Dataset):\n",
    "    def __init__(self, texts, labels):\n",
    "        self.texts = texts\n",
    "        self.labels = labels\n",
    "        # self.orig_tokens = orig_tokens\n",
    "\n",
    "    def __len__(self):\n",
    "        return len(self.texts['input_ids'])\n",
    "\n",
    "    def __getitem__(self, idx):\n",
    "        # print(self.texts['input_ids'].shape)\n",
    "        # print(self.texts['attention_mask'].shape)\n",
    "        # raise ConnectionAbortedError\n",
    "        input_ids = self.texts['input_ids'][idx]\n",
    "        attention = self.texts['attention_mask'][idx]\n",
    "        labels_init = self.labels.tolist()[idx]\n",
    "        labels_init.insert(0, 0)\n",
    "        if  MAX_LEN - len(labels_init) >= 0:\n",
    "            labels = np.pad(labels_init, (0, MAX_LEN - len(labels_init)), constant_values=0)\n",
    "        else:\n",
    "            labels = labels_init[:MAX_LEN]\n",
    "        # tokens = self.get_orig_tokens(idx)\n",
    "        # tokens = np.pad(tokens, (0, MAX_LEN - len(tokens)), constant_values='')\n",
    "        \n",
    "        return {\n",
    "            'input_ids': input_ids,\n",
    "            'attention_mask': attention,\n",
    "            'labels': torch.tensor(labels, dtype=torch.long)\n",
    "        }\n",
    "    \n",
    "    # def get_orig_tokens(self, idx):\n",
    "    #     return self.orig_tokens[idx]\n",
    "\n",
    "\n",
    "# for idx, sample in enumerate(data_r['prep_labels'].tolist()):\n",
    "#     ones = sample.count(1)\n",
    "#     if (ones / len(sample)) > 0.1:\n",
    "#         indexes.append(idx)\n",
    "    \n",
    "# texts_train = np.array(data_r['prep_text'].tolist())[indexes]\n",
    "# # print(len(texts_train))\n",
    "# labels_train = data_r['prep_labels'].to_numpy()[indexes]\n",
    "# print(texts_train.tolist()[0])\n",
    "# print(labels_train.tolist()[0])\n",
    "# print(len(labels_train))\n",
    "\n",
    "texts_train, texts_val, labels_train, labels_val = train_test_split(\n",
    "    data_r['prep_text'], data_r['prep_labels'], test_size=0.2, random_state=123\n",
    ")\n",
    "train_tokens = []\n",
    "val_tokens = []\n",
    "train_t = tokenizer(texts_train.tolist(), return_tensors='pt', padding='max_length', truncation=True, max_length=MAX_LEN)\n",
    "val_t = tokenizer(texts_val.tolist(), return_tensors='pt', padding='max_length', truncation=True, max_length=MAX_LEN)\n",
    "indexes = []\n",
    "\n",
    "\n",
    "# plt.figure()\n",
    "# sns.histplot(length)\n",
    "# plt.show()\n",
    "# raise ConnectionAbortedError\n",
    "# for ids in train_t['input_ids']:\n",
    "#     decoded = tokenizer.decode(ids.tolist(), skip_special_tokens=True)\n",
    "#     train_tokens.append(decoded.split())\n",
    "\n",
    "# for ids in val_t['input_ids']:\n",
    "#     decoded = tokenizer.decode(ids.tolist(), skip_special_tokens=True)\n",
    "#     val_tokens.append(decoded.split())\n",
    "\n",
    "\n",
    "train_dataset = NERDataset(tokenizer(texts_train.tolist(), return_tensors='pt', padding='max_length', truncation=True, max_length=MAX_LEN).to('cuda'), labels_train)\n",
    "val_dataset = NERDataset(tokenizer(texts_val.tolist(), return_tensors='pt', padding='max_length', truncation=True, max_length=MAX_LEN).to('cuda'), labels_val)\n",
    "# print(len(train_dataset))\n",
    "# raise ConnectionAbortedError\n",
    "train_dataloader = DataLoader(train_dataset, batch_size=TRAIN_BATCH_SIZE, shuffle=True)\n",
    "val_dataloader = DataLoader(val_dataset, batch_size=VAL_BATCH_SIZE, shuffle=False)\n",
    "\n",
    "# Set up optimizer and scheduler\n",
    "optimizer = AdamW([\n",
    "    {'params': list(model.bert.parameters()), 'lr': 1e-6},\n",
    "    {'params': list(model.classifier.parameters()), 'lr': 1e-3}\n",
    "])\n",
    "\n",
    "# scheduler = torch.optim.lr_scheduler.StepLR(optimizer, step_size=1, gamma=0.9)\n",
    "criterion = torch.nn.CrossEntropyLoss(torch.tensor([1.0, 200.0, 200.0]).to('cuda'))\n",
    "model.to('cuda')\n",
    "fin = time.time()\n",
    "# print(fin - start)\n",
    "# raise ConnectionAbortedError\n",
    "\n"
   ]
  },
  {
   "cell_type": "code",
   "execution_count": 2,
   "metadata": {},
   "outputs": [
    {
     "name": "stderr",
     "output_type": "stream",
     "text": [
      "100%|██████████| 1600/1600 [00:37<00:00, 42.30it/s]\n"
     ]
    },
    {
     "name": "stdout",
     "output_type": "stream",
     "text": [
      "Train loss: 0.3614252527474309, train f1: 0.3449687775499992\n"
     ]
    },
    {
     "name": "stderr",
     "output_type": "stream",
     "text": [
      "100%|██████████| 400/400 [00:03<00:00, 131.88it/s]\n"
     ]
    },
    {
     "name": "stdout",
     "output_type": "stream",
     "text": [
      "Val loss: 0.22079482422210275, val f1: 0.42912832739999973\n"
     ]
    },
    {
     "name": "stderr",
     "output_type": "stream",
     "text": [
      "100%|██████████| 1600/1600 [00:37<00:00, 42.55it/s]\n"
     ]
    },
    {
     "name": "stdout",
     "output_type": "stream",
     "text": [
      "Train loss: 0.20971826421298828, train f1: 0.477009055018749\n"
     ]
    },
    {
     "name": "stderr",
     "output_type": "stream",
     "text": [
      "100%|██████████| 400/400 [00:03<00:00, 131.75it/s]\n"
     ]
    },
    {
     "name": "stdout",
     "output_type": "stream",
     "text": [
      "Val loss: 0.20526796954844032, val f1: 0.4725094803249994\n"
     ]
    },
    {
     "name": "stderr",
     "output_type": "stream",
     "text": [
      "100%|██████████| 1600/1600 [00:37<00:00, 42.54it/s]\n"
     ]
    },
    {
     "name": "stdout",
     "output_type": "stream",
     "text": [
      "Train loss: 0.18518175569059622, train f1: 0.5095517807187495\n"
     ]
    },
    {
     "name": "stderr",
     "output_type": "stream",
     "text": [
      "100%|██████████| 400/400 [00:03<00:00, 131.85it/s]\n"
     ]
    },
    {
     "name": "stdout",
     "output_type": "stream",
     "text": [
      "Val loss: 0.17842057636669778, val f1: 0.6062060561249992\n"
     ]
    },
    {
     "name": "stderr",
     "output_type": "stream",
     "text": [
      "100%|██████████| 1600/1600 [00:37<00:00, 42.53it/s]\n"
     ]
    },
    {
     "name": "stdout",
     "output_type": "stream",
     "text": [
      "Train loss: 0.17308550668029737, train f1: 0.5140740891875006\n"
     ]
    },
    {
     "name": "stderr",
     "output_type": "stream",
     "text": [
      "100%|██████████| 400/400 [00:03<00:00, 131.99it/s]\n"
     ]
    },
    {
     "name": "stdout",
     "output_type": "stream",
     "text": [
      "Val loss: 0.1951554329870669, val f1: 0.6319039224499995\n"
     ]
    },
    {
     "name": "stderr",
     "output_type": "stream",
     "text": [
      "100%|██████████| 1600/1600 [00:37<00:00, 42.53it/s]\n"
     ]
    },
    {
     "name": "stdout",
     "output_type": "stream",
     "text": [
      "Train loss: 0.16027738150945425, train f1: 0.5343830191562504\n"
     ]
    },
    {
     "name": "stderr",
     "output_type": "stream",
     "text": [
      "100%|██████████| 400/400 [00:03<00:00, 132.12it/s]\n"
     ]
    },
    {
     "name": "stdout",
     "output_type": "stream",
     "text": [
      "Val loss: 0.19119248398978017, val f1: 0.5578683676749998\n"
     ]
    },
    {
     "name": "stderr",
     "output_type": "stream",
     "text": [
      "100%|██████████| 1600/1600 [00:37<00:00, 42.52it/s]\n"
     ]
    },
    {
     "name": "stdout",
     "output_type": "stream",
     "text": [
      "Train loss: 0.15405812553641796, train f1: 0.5238913903062506\n"
     ]
    },
    {
     "name": "stderr",
     "output_type": "stream",
     "text": [
      "100%|██████████| 400/400 [00:03<00:00, 132.15it/s]\n"
     ]
    },
    {
     "name": "stdout",
     "output_type": "stream",
     "text": [
      "Val loss: 0.19561598965379745, val f1: 0.6227777291749996\n"
     ]
    },
    {
     "name": "stderr",
     "output_type": "stream",
     "text": [
      "100%|██████████| 1600/1600 [00:37<00:00, 42.53it/s]\n"
     ]
    },
    {
     "name": "stdout",
     "output_type": "stream",
     "text": [
      "Train loss: 0.14283716420149745, train f1: 0.5677042774062505\n"
     ]
    },
    {
     "name": "stderr",
     "output_type": "stream",
     "text": [
      "100%|██████████| 400/400 [00:03<00:00, 132.14it/s]\n"
     ]
    },
    {
     "name": "stdout",
     "output_type": "stream",
     "text": [
      "Val loss: 0.1879404117200329, val f1: 0.5624845937999999\n"
     ]
    },
    {
     "name": "stderr",
     "output_type": "stream",
     "text": [
      "100%|██████████| 1600/1600 [00:37<00:00, 42.55it/s]\n"
     ]
    },
    {
     "name": "stdout",
     "output_type": "stream",
     "text": [
      "Train loss: 0.1397865358724401, train f1: 0.5820915709500002\n"
     ]
    },
    {
     "name": "stderr",
     "output_type": "stream",
     "text": [
      "100%|██████████| 400/400 [00:03<00:00, 131.45it/s]\n"
     ]
    },
    {
     "name": "stdout",
     "output_type": "stream",
     "text": [
      "Val loss: 0.1769810151466868, val f1: 0.643010101\n"
     ]
    },
    {
     "name": "stderr",
     "output_type": "stream",
     "text": [
      "100%|██████████| 1600/1600 [00:37<00:00, 42.55it/s]\n"
     ]
    },
    {
     "name": "stdout",
     "output_type": "stream",
     "text": [
      "Train loss: 0.11894236005834571, train f1: 0.66058101498125\n"
     ]
    },
    {
     "name": "stderr",
     "output_type": "stream",
     "text": [
      "100%|██████████| 400/400 [00:03<00:00, 131.43it/s]\n"
     ]
    },
    {
     "name": "stdout",
     "output_type": "stream",
     "text": [
      "Val loss: 0.15259496808269432, val f1: 0.7\n"
     ]
    },
    {
     "name": "stderr",
     "output_type": "stream",
     "text": [
      "100%|██████████| 1600/1600 [00:37<00:00, 42.54it/s]\n"
     ]
    },
    {
     "name": "stdout",
     "output_type": "stream",
     "text": [
      "Train loss: 0.10917165864554423, train f1: 0.7588750000000001\n"
     ]
    },
    {
     "name": "stderr",
     "output_type": "stream",
     "text": [
      "100%|██████████| 400/400 [00:03<00:00, 132.59it/s]\n"
     ]
    },
    {
     "name": "stdout",
     "output_type": "stream",
     "text": [
      "Val loss: 0.1557541250292924, val f1: 0.9125\n"
     ]
    },
    {
     "name": "stderr",
     "output_type": "stream",
     "text": [
      "100%|██████████| 1600/1600 [00:37<00:00, 42.57it/s]\n"
     ]
    },
    {
     "name": "stdout",
     "output_type": "stream",
     "text": [
      "Train loss: 0.08783257931764701, train f1: 0.906875\n"
     ]
    },
    {
     "name": "stderr",
     "output_type": "stream",
     "text": [
      "100%|██████████| 400/400 [00:02<00:00, 133.36it/s]\n"
     ]
    },
    {
     "name": "stdout",
     "output_type": "stream",
     "text": [
      "Val loss: 0.15388354095417658, val f1: 0.9775\n"
     ]
    },
    {
     "name": "stderr",
     "output_type": "stream",
     "text": [
      "100%|██████████| 1600/1600 [00:37<00:00, 42.55it/s]\n"
     ]
    },
    {
     "name": "stdout",
     "output_type": "stream",
     "text": [
      "Train loss: 0.07741178875818418, train f1: 0.969375\n"
     ]
    },
    {
     "name": "stderr",
     "output_type": "stream",
     "text": [
      "100%|██████████| 400/400 [00:03<00:00, 133.17it/s]\n"
     ]
    },
    {
     "name": "stdout",
     "output_type": "stream",
     "text": [
      "Val loss: 0.09712411464386872, val f1: 0.9825\n"
     ]
    },
    {
     "name": "stderr",
     "output_type": "stream",
     "text": [
      "100%|██████████| 1600/1600 [00:37<00:00, 42.56it/s]\n"
     ]
    },
    {
     "name": "stdout",
     "output_type": "stream",
     "text": [
      "Train loss: 0.05078748152957461, train f1: 0.99\n"
     ]
    },
    {
     "name": "stderr",
     "output_type": "stream",
     "text": [
      "100%|██████████| 400/400 [00:02<00:00, 133.48it/s]\n"
     ]
    },
    {
     "name": "stdout",
     "output_type": "stream",
     "text": [
      "Val loss: 0.06252383447415509, val f1: 0.9975\n"
     ]
    },
    {
     "name": "stderr",
     "output_type": "stream",
     "text": [
      "100%|██████████| 1600/1600 [00:37<00:00, 42.57it/s]\n"
     ]
    },
    {
     "name": "stdout",
     "output_type": "stream",
     "text": [
      "Train loss: 0.021787981112444014, train f1: 1.0\n"
     ]
    },
    {
     "name": "stderr",
     "output_type": "stream",
     "text": [
      "100%|██████████| 400/400 [00:02<00:00, 133.44it/s]\n"
     ]
    },
    {
     "name": "stdout",
     "output_type": "stream",
     "text": [
      "Val loss: 0.01939912918963662, val f1: 1.0\n"
     ]
    },
    {
     "name": "stderr",
     "output_type": "stream",
     "text": [
      "100%|██████████| 1600/1600 [00:37<00:00, 42.56it/s]\n"
     ]
    },
    {
     "name": "stdout",
     "output_type": "stream",
     "text": [
      "Train loss: 0.008199071604528518, train f1: 0.999375\n"
     ]
    },
    {
     "name": "stderr",
     "output_type": "stream",
     "text": [
      "100%|██████████| 400/400 [00:03<00:00, 133.11it/s]\n"
     ]
    },
    {
     "name": "stdout",
     "output_type": "stream",
     "text": [
      "Val loss: 0.0046494829210694845, val f1: 1.0\n"
     ]
    },
    {
     "data": {
      "image/png": "[encoded data removed]",
      "text/plain": [
       "<Figure size 640x480 with 1 Axes>"
      ]
     },
     "metadata": {},
     "output_type": "display_data"
    },
    {
     "data": {
      "image/png": "[encoded data removed]",
      "text/plain": [
       "<Figure size 640x480 with 1 Axes>"
      ]
     },
     "metadata": {},
     "output_type": "display_data"
    }
   ],
   "source": [
    "TRAIN_BATCH_SIZE = 16\n",
    "VAL_BATCH_SIZE = 16\n",
    "EPOCHS = 15\n",
    "train_loss = []\n",
    "val_loss = []\n",
    "train_f1 = []\n",
    "val_f1 = []\n",
    "\n",
    "for epoch in range(EPOCHS):\n",
    "    model.train()\n",
    "    total_loss = 0\n",
    "    total_f1 = 0\n",
    "    counter =0\n",
    "    for batch in tqdm(train_dataloader):\n",
    "        \n",
    "        inputs = {key: value.to('cuda') for key, value in batch.items() if (key != 'labels' and key != 'tokens')}\n",
    "        outputs = model(**inputs)\n",
    "        \n",
    "        probs = torch.nn.functional.softmax(outputs.logits, dim=2)\n",
    "        \n",
    "        coded_pred = torch.argmax(probs, dim=2)\n",
    "\n",
    "        loss = criterion(outputs.logits.view(-1, 3), batch['labels'].to('cuda').view(-1))\n",
    "        total_loss += loss.item()\n",
    "\n",
    "        optimizer.zero_grad()\n",
    "        loss.backward()\n",
    "        tokens_batched = []\n",
    "        \n",
    "        for ids in batch['input_ids']:\n",
    "            decoded = tokenizer.decode(ids.tolist(), skip_special_tokens=True)\n",
    "            tokens_batched.append(decoded.split())\n",
    "\n",
    "        # print(coded_pred.shape)\n",
    "        # print(batch['labels'].shape)\n",
    "        # raise ConnectionAbortedError\n",
    "    \n",
    "        tokens_gt_batched = []\n",
    "        for batch_idx, sample in enumerate(batch['labels']):\n",
    "            sample_gt = []\n",
    "            for idx, class_t in enumerate(sample[1:len(tokens_batched[batch_idx])+1]):\n",
    "                if class_t != 0:\n",
    "                    sample_gt.append(tokens_batched[batch_idx][idx])\n",
    "            tokens_gt_batched.append(sample_gt)\n",
    "        \n",
    "        tokens_pred_batched = []\n",
    "        for batch_idx, sample in enumerate(coded_pred):\n",
    "            sample_pred = []\n",
    "            for idx, class_t in enumerate(sample[1:len(tokens_batched[batch_idx])+1]):\n",
    "                if class_t != 0:\n",
    "                    sample_pred.append(tokens_batched[batch_idx][idx])\n",
    "            tokens_pred_batched.append(sample_pred)\n",
    "\n",
    "        # for batch_num in range(TRAIN_BATCH_SIZE):\n",
    "        #     max_num_tok = len(tokens_gt_batched[batch_num])\n",
    "        #     if len(tokens_pred_batched[batch_num]) > max_num_tok:\n",
    "        #         for _ in range(len(tokens_pred_batched[batch_num]) - max_num_tok):\n",
    "        #             tokens_gt_batched[batch_num].append('')\n",
    "        #     else:\n",
    "        #         for _ in range(max_num_tok - len(tokens_pred_batched[batch_num])):\n",
    "        #             tokens_pred_batched[batch_num].append('')\n",
    "        \n",
    "        \n",
    "        f1 = comp_metric(tokens_gt_batched, tokens_pred_batched)\n",
    "        total_f1 += f1\n",
    "\n",
    "        optimizer.step()\n",
    "        # if counter % 100 == 0:\n",
    "        # print(f'F1: {f1}, loss: {loss}')\n",
    "        # counter += 1\n",
    "        # if counter == 10:\n",
    "        #     raise ConnectionAbortedError\n",
    "        # scheduler.step()\n",
    "\n",
    "    avg_train_loss = total_loss / len(train_dataloader)\n",
    "    avg_train_f1 = total_f1 / len(train_dataloader)\n",
    "    train_loss.append(avg_train_loss)\n",
    "    train_f1.append(avg_train_f1)\n",
    "    print(f\"Train loss: {avg_train_loss}, train f1: {avg_train_f1}\")\n",
    "    \n",
    "    model.eval()\n",
    "    total_val_loss = 0\n",
    "    total_val_f1 = 0\n",
    "    with torch.no_grad():\n",
    "        for batch in tqdm(val_dataloader):\n",
    "            inputs = {key: value.to('cuda') for key, value in batch.items() if key != 'labels'}\n",
    "            outputs = model(**inputs, labels=batch['labels'].to('cuda'))\n",
    "\n",
    "            probs = torch.nn.functional.softmax(outputs.logits, dim=2)\n",
    "        \n",
    "            coded_pred = torch.argmax(probs, dim=2)\n",
    "            torch.nn.utils.clip_grad_value_(model.parameters(), 10)\n",
    "            loss = criterion(outputs.logits.view(-1, 3), batch['labels'].to('cuda').view(-1))\n",
    "            total_val_loss += loss.item()\n",
    "\n",
    "            tokens_batched = []\n",
    "            \n",
    "            for ids in batch['input_ids']:\n",
    "                decoded = tokenizer.decode(ids.tolist(), skip_special_tokens=True)\n",
    "                tokens_batched.append(decoded.split())\n",
    "\n",
    "            tokens_gt_batched = []\n",
    "            for batch_idx, sample in enumerate(batch['labels']):\n",
    "                sample_gt = []\n",
    "                for idx, class_t in enumerate(sample[1:len(tokens_batched[batch_idx])+1]):\n",
    "                    if class_t != 0:\n",
    "                        sample_gt.append(tokens_batched[batch_idx][idx])\n",
    "                tokens_gt_batched.append(sample_gt)\n",
    "            \n",
    "            tokens_pred_batched = []\n",
    "            for batch_idx, sample in enumerate(coded_pred):\n",
    "                sample_pred = []\n",
    "                for idx, class_t in enumerate(sample[1:len(tokens_batched[batch_idx])+1]):\n",
    "                    if class_t != 0:\n",
    "                        sample_pred.append(tokens_batched[batch_idx][idx])\n",
    "                tokens_pred_batched.append(sample_pred)\n",
    "\n",
    "            # for batch_num in range(TRAIN_BATCH_SIZE):\n",
    "            #     max_num_tok = len(tokens_gt_batched[batch_num])\n",
    "            #     if len(tokens_pred_batched[batch_num]) > max_num_tok:\n",
    "            #         for _ in range(len(tokens_pred_batched[batch_num]) - max_num_tok):\n",
    "            #             tokens_gt_batched[batch_num].append('')\n",
    "            #     else:\n",
    "            #         for _ in range(max_num_tok - len(tokens_pred_batched[batch_num])):\n",
    "            #             tokens_pred_batched[batch_num].append('')\n",
    "            \n",
    "            \n",
    "            f1 = comp_metric(tokens_gt_batched, tokens_pred_batched)\n",
    "            total_val_f1 += f1\n",
    "\n",
    "    avg_val_loss = total_val_loss / len(val_dataloader)\n",
    "    avg_val_f1 = total_val_f1 / len(val_dataloader)\n",
    "    val_loss.append(avg_val_loss)\n",
    "    val_f1.append(avg_val_f1)\n",
    "    print(f\"Val loss: {avg_val_loss}, val f1: {avg_val_f1}\")\n",
    "    \n",
    "plt.figure()\n",
    "sns.lineplot(train_loss)\n",
    "sns.lineplot(val_loss)\n",
    "plt.savefig('Losses_ukr.png')\n",
    "\n",
    "plt.figure()\n",
    "sns.lineplot(train_f1)\n",
    "sns.lineplot(val_f1)\n",
    "plt.savefig('f1_ukr.png')\n",
    "\n",
    "torch.save(model, 'uk_300k_last.pth')\n",
    "torch.save(model.state_dict(), 'uk_weights_300k_last.pth')\n",
    "torch.save(tokenizer, 'uk_tokenizer_300k_last.pth')"
   ]
  },
  {
   "cell_type": "code",
   "execution_count": 16,
   "metadata": {},
   "outputs": [
    {
     "name": "stderr",
     "output_type": "stream",
     "text": [
      "Some weights of BertForTokenClassification were not initialized from the model checkpoint at DeepPavlov/rubert-base-cased and are newly initialized: ['classifier.weight', 'classifier.bias']\n",
      "You should probably TRAIN this model on a down-stream task to be able to use it for predictions and inference.\n",
      "/mnt/data/vprots/venv/lib/python3.8/site-packages/transformers/optimization.py:411: FutureWarning: This implementation of AdamW is deprecated and will be removed in a future version. Use the PyTorch implementation torch.optim.AdamW instead, or set `no_deprecation_warning=True` to disable this warning\n",
      "  warnings.warn(\n"
     ]
    }
   ],
   "source": [
    "import torch\n",
    "import json\n",
    "import ast\n",
    "from torch.utils.data import Dataset, DataLoader\n",
    "from transformers import BertTokenizer, BertForTokenClassification, AdamW\n",
    "from sklearn.model_selection import train_test_split\n",
    "from sklearn.preprocessing import LabelEncoder\n",
    "from tqdm import tqdm\n",
    "import pandas as pd\n",
    "import numpy as np\n",
    "import re\n",
    "import time\n",
    "import seaborn as sns\n",
    "import matplotlib.pyplot as plt\n",
    "\n",
    "def process_punct(row):\n",
    "    rem_sym = [',', '.', '!', '?']\n",
    "    for p in rem_sym:\n",
    "        row = row.replace(p, '')\n",
    "    return row\n",
    "\n",
    "def hard_processing(text):\n",
    "    text = re.sub(r\"[{re.escape(string.punctuation)}]\", \"\", text)\n",
    "    text = re.sub(r'\\d', '', text)\n",
    "    text = re.sub(r'\\b\\w\\b\\s?', '', text)\n",
    "    text = re.sub(r'\\s+', ' ', text).strip()\n",
    "    return text.lower()\n",
    "\n",
    "def comp_metric(y_true, y_pred):\n",
    "    assert len(y_true) == len(y_pred)\n",
    "    tp, fp, fn, p,  = 0.0, 0.0, 0.0, 0.0\n",
    "\n",
    "    for y_true_sample, y_pred_sample in zip(y_true, y_pred):\n",
    "        y_true_sample = set([hard_processing(s) for s in y_true_sample])\n",
    "        y_pred_sample = set([hard_processing(s) for s in y_pred_sample])\n",
    "\n",
    "        tp += len(y_true_sample & y_pred_sample)\n",
    "        fp += len(y_pred_sample - y_true_sample)\n",
    "        fn += len(y_true_sample - y_pred_sample)\n",
    "        p += len(y_true_sample)\n",
    "\n",
    "    if tp + fp == 0:\n",
    "        if p == 0:\n",
    "            precision = 1.0\n",
    "        else:\n",
    "            precision = 0.0\n",
    "    else:\n",
    "        precision = tp/(tp + fp)\n",
    "\n",
    "    if tp + fn == 0:\n",
    "        if p == 0:\n",
    "            recall = 1.0\n",
    "        else:\n",
    "            recall = 0.0\n",
    "    else:\n",
    "        recall = tp/(tp + fn)\n",
    "\n",
    "    if precision + recall == 0:\n",
    "        f1 = 0\n",
    "    else:\n",
    "        f1 = 2 * precision * recall / (precision + recall)\n",
    "    return round(f1, 8)\n",
    "\n",
    "BASE_PATH = 'nlp_data'\n",
    "MAX_LEN = 16\n",
    "\n",
    "start = time.time()\n",
    "df_r = pd.read_csv(f'{BASE_PATH}/ru_geo_dataset.csv')\n",
    "data_r = df_r[['text', 'loc_markers']].iloc[:10000, :]\n",
    "\n",
    "tokenizer = BertTokenizer.from_pretrained(\"DeepPavlov/rubert-base-cased\")\n",
    "model = BertForTokenClassification.from_pretrained(\"DeepPavlov/rubert-base-cased\", num_labels=3)\n",
    "\n",
    "data_r['prep_text'] = data_r['text'].apply(process_punct)\n",
    "\n",
    "tokenized_r = tokenizer(data_r['prep_text'].tolist(), return_tensors='pt', padding='max_length', truncation=True, max_length=MAX_LEN)\n",
    "\n",
    "# raise ConnectionAbortedError\n",
    "tokens = []\n",
    "bio_labels = []\n",
    "for ids in tokenized_r['input_ids']:\n",
    "    decoded = tokenizer.decode(ids.tolist(), skip_special_tokens=True)\n",
    "    tokens.append(decoded.split())\n",
    "    bio_labels.append(['O'] * len(decoded.split()))\n",
    "\n",
    "\n",
    "for sample_idx, sample in enumerate(data_r['loc_markers'].tolist()):\n",
    "    locations = ast.literal_eval(sample)\n",
    "    for loc_idx, loc in enumerate(locations):\n",
    "        loc_text = data_r['text'].tolist()[sample_idx][loc[0]:loc[1]]\n",
    "        words_in_loc_text = loc_text.count(' ')\n",
    "        if words_in_loc_text > 0:\n",
    "            indexes = [(i, i + words_in_loc_text) for i in range(len(tokens[sample_idx])-words_in_loc_text) if ' '.join([tokens[sample_idx][i+j] for j in range(words_in_loc_text + 1)])  == loc_text]\n",
    "        else:\n",
    "            indexes = [i for i, token in enumerate(tokens[sample_idx]) if token == loc_text]\n",
    "\n",
    "        for index in indexes:\n",
    "            if isinstance(index, int):\n",
    "                bio_labels[sample_idx][index] = 'B-LOC'\n",
    "            else:\n",
    "                for inner_idx in range(index[0], index[1]+1):\n",
    "                    if inner_idx == index[0]:\n",
    "                        bio_labels[sample_idx][inner_idx] = 'B-LOC'\n",
    "                    else:\n",
    "                        bio_labels[sample_idx][inner_idx] = 'I-LOC'\n",
    "\n",
    "label2id = {'O': 0, 'B-LOC': 1, 'I-LOC': 2}\n",
    "converted = []\n",
    "for sample in bio_labels:\n",
    "    temp = []\n",
    "    for label in sample:\n",
    "        temp.append(label2id[label])\n",
    "    converted.append(temp)\n",
    "data_r['prep_labels'] = converted\n",
    "# print(data_r.head(5))\n",
    "\n",
    "class NERDataset(Dataset):\n",
    "    def __init__(self, texts, labels):\n",
    "        self.texts = texts\n",
    "        self.labels = labels\n",
    "        # self.orig_tokens = orig_tokens\n",
    "\n",
    "    def __len__(self):\n",
    "        return len(self.texts['input_ids'])\n",
    "\n",
    "    def __getitem__(self, idx):\n",
    "        # print(self.texts['input_ids'].shape)\n",
    "        # print(self.texts['attention_mask'].shape)\n",
    "        # raise ConnectionAbortedError\n",
    "        input_ids = self.texts['input_ids'][idx]\n",
    "        attention = self.texts['attention_mask'][idx]\n",
    "        labels_init = self.labels.tolist()[idx]\n",
    "        labels_init.insert(0, 0)\n",
    "        if  MAX_LEN - len(labels_init) >= 0:\n",
    "            labels = np.pad(labels_init, (0, MAX_LEN - len(labels_init)), constant_values=0)\n",
    "        else:\n",
    "            labels = labels_init[:MAX_LEN]\n",
    "        # tokens = self.get_orig_tokens(idx)\n",
    "        # tokens = np.pad(tokens, (0, MAX_LEN - len(tokens)), constant_values='')\n",
    "        \n",
    "        return {\n",
    "            'input_ids': input_ids,\n",
    "            'attention_mask': attention,\n",
    "            'labels': torch.tensor(labels, dtype=torch.long)\n",
    "        }\n",
    "    \n",
    "    # def get_orig_tokens(self, idx):\n",
    "    #     return self.orig_tokens[idx]\n",
    "\n",
    "\n",
    "# for idx, sample in enumerate(data_r['prep_labels'].tolist()):\n",
    "#     ones = sample.count(1)\n",
    "#     if (ones / len(sample)) > 0.1:\n",
    "#         indexes.append(idx)\n",
    "    \n",
    "# texts_train = np.array(data_r['prep_text'].tolist())[indexes]\n",
    "# # print(len(texts_train))\n",
    "# labels_train = data_r['prep_labels'].to_numpy()[indexes]\n",
    "# print(texts_train.tolist()[0])\n",
    "# print(labels_train.tolist()[0])\n",
    "# print(len(labels_train))\n",
    "\n",
    "texts_train, texts_val, labels_train, labels_val = train_test_split(\n",
    "    data_r['prep_text'], data_r['prep_labels'], test_size=0.2, random_state=123\n",
    ")\n",
    "train_tokens = []\n",
    "val_tokens = []\n",
    "train_t = tokenizer(texts_train.tolist(), return_tensors='pt', padding='max_length', truncation=True, max_length=MAX_LEN)\n",
    "val_t = tokenizer(texts_val.tolist(), return_tensors='pt', padding='max_length', truncation=True, max_length=MAX_LEN)\n",
    "indexes = []\n",
    "\n",
    "\n",
    "# plt.figure()\n",
    "# sns.histplot(length)\n",
    "# plt.show()\n",
    "# raise ConnectionAbortedError\n",
    "# for ids in train_t['input_ids']:\n",
    "#     decoded = tokenizer.decode(ids.tolist(), skip_special_tokens=True)\n",
    "#     train_tokens.append(decoded.split())\n",
    "\n",
    "# for ids in val_t['input_ids']:\n",
    "#     decoded = tokenizer.decode(ids.tolist(), skip_special_tokens=True)\n",
    "#     val_tokens.append(decoded.split())\n",
    "\n",
    "\n",
    "train_dataset = NERDataset(tokenizer(texts_train.tolist(), return_tensors='pt', padding='max_length', truncation=True, max_length=MAX_LEN).to('cuda'), labels_train)\n",
    "val_dataset = NERDataset(tokenizer(texts_val.tolist(), return_tensors='pt', padding='max_length', truncation=True, max_length=MAX_LEN).to('cuda'), labels_val)\n",
    "# print(len(train_dataset))\n",
    "# raise ConnectionAbortedError\n",
    "train_dataloader = DataLoader(train_dataset, batch_size=TRAIN_BATCH_SIZE, shuffle=True)\n",
    "val_dataloader = DataLoader(val_dataset, batch_size=VAL_BATCH_SIZE, shuffle=False)\n",
    "\n",
    "# Set up optimizer and scheduler\n",
    "optimizer = AdamW([\n",
    "    {'params': list(model.bert.parameters()), 'lr': 1e-6},\n",
    "    {'params': list(model.classifier.parameters()), 'lr': 1e-3}\n",
    "])\n",
    "\n",
    "# scheduler = torch.optim.lr_scheduler.StepLR(optimizer, step_size=1, gamma=0.9)\n",
    "criterion = torch.nn.CrossEntropyLoss(torch.tensor([1.0, 50.0, 50.0]).to('cuda'))\n",
    "model.to('cuda')\n",
    "fin = time.time()\n",
    "# print(fin - start)\n",
    "# raise ConnectionAbortedError\n",
    "\n"
   ]
  },
  {
   "cell_type": "code",
   "execution_count": 17,
   "metadata": {},
   "outputs": [
    {
     "name": "stderr",
     "output_type": "stream",
     "text": [
      "  0%|          | 0/500 [00:00<?, ?it/s]"
     ]
    },
    {
     "name": "stderr",
     "output_type": "stream",
     "text": [
      "100%|██████████| 500/500 [00:16<00:00, 31.06it/s]\n"
     ]
    },
    {
     "name": "stdout",
     "output_type": "stream",
     "text": [
      "Train loss: 0.3746632267087698, train f1: 0.3090600031199999\n"
     ]
    },
    {
     "name": "stderr",
     "output_type": "stream",
     "text": [
      "100%|██████████| 125/125 [00:01<00:00, 80.24it/s]\n"
     ]
    },
    {
     "name": "stdout",
     "output_type": "stream",
     "text": [
      "Val loss: 0.24038095006346702, val f1: 0.3819034062399999\n"
     ]
    },
    {
     "name": "stderr",
     "output_type": "stream",
     "text": [
      "100%|██████████| 500/500 [00:16<00:00, 31.06it/s]\n"
     ]
    },
    {
     "name": "stdout",
     "output_type": "stream",
     "text": [
      "Train loss: 0.3808955990895629, train f1: 0.24860694003999997\n"
     ]
    },
    {
     "name": "stderr",
     "output_type": "stream",
     "text": [
      "100%|██████████| 125/125 [00:01<00:00, 80.23it/s]\n"
     ]
    },
    {
     "name": "stdout",
     "output_type": "stream",
     "text": [
      "Val loss: 0.3047637468278408, val f1: 0.30966787280000013\n"
     ]
    },
    {
     "name": "stderr",
     "output_type": "stream",
     "text": [
      "100%|██████████| 500/500 [00:16<00:00, 31.00it/s]\n"
     ]
    },
    {
     "name": "stdout",
     "output_type": "stream",
     "text": [
      "Train loss: 0.3740792221203446, train f1: 0.20397479958000037\n"
     ]
    },
    {
     "name": "stderr",
     "output_type": "stream",
     "text": [
      "100%|██████████| 125/125 [00:01<00:00, 79.88it/s]\n"
     ]
    },
    {
     "name": "stdout",
     "output_type": "stream",
     "text": [
      "Val loss: 0.36108784726262094, val f1: 0.23109977063999992\n"
     ]
    },
    {
     "name": "stderr",
     "output_type": "stream",
     "text": [
      "100%|██████████| 500/500 [00:16<00:00, 30.97it/s]\n"
     ]
    },
    {
     "name": "stdout",
     "output_type": "stream",
     "text": [
      "Train loss: 0.3542092360928655, train f1: 0.19626691144000008\n"
     ]
    },
    {
     "name": "stderr",
     "output_type": "stream",
     "text": [
      "100%|██████████| 125/125 [00:01<00:00, 80.10it/s]\n"
     ]
    },
    {
     "name": "stdout",
     "output_type": "stream",
     "text": [
      "Val loss: 0.3608547738492489, val f1: 0.18384225056000003\n"
     ]
    },
    {
     "name": "stderr",
     "output_type": "stream",
     "text": [
      "100%|██████████| 500/500 [00:16<00:00, 30.98it/s]\n"
     ]
    },
    {
     "name": "stdout",
     "output_type": "stream",
     "text": [
      "Train loss: 0.3233089668406174, train f1: 0.1933677895600002\n"
     ]
    },
    {
     "name": "stderr",
     "output_type": "stream",
     "text": [
      "100%|██████████| 125/125 [00:01<00:00, 80.58it/s]\n"
     ]
    },
    {
     "name": "stdout",
     "output_type": "stream",
     "text": [
      "Val loss: 0.32054992419481276, val f1: 0.21944505055999997\n"
     ]
    },
    {
     "name": "stderr",
     "output_type": "stream",
     "text": [
      "100%|██████████| 500/500 [00:16<00:00, 30.99it/s]\n"
     ]
    },
    {
     "name": "stdout",
     "output_type": "stream",
     "text": [
      "Train loss: 0.28891922091692684, train f1: 0.19665690466000035\n"
     ]
    },
    {
     "name": "stderr",
     "output_type": "stream",
     "text": [
      "100%|██████████| 125/125 [00:01<00:00, 80.74it/s]\n"
     ]
    },
    {
     "name": "stdout",
     "output_type": "stream",
     "text": [
      "Val loss: 0.2900793750807643, val f1: 0.22480850503999997\n"
     ]
    },
    {
     "name": "stderr",
     "output_type": "stream",
     "text": [
      "100%|██████████| 500/500 [00:16<00:00, 31.01it/s]\n"
     ]
    },
    {
     "name": "stdout",
     "output_type": "stream",
     "text": [
      "Train loss: 0.2488806616505608, train f1: 0.21630370264000007\n"
     ]
    },
    {
     "name": "stderr",
     "output_type": "stream",
     "text": [
      "100%|██████████| 125/125 [00:01<00:00, 80.85it/s]\n"
     ]
    },
    {
     "name": "stdout",
     "output_type": "stream",
     "text": [
      "Val loss: 0.2645991931222379, val f1: 0.2530883248799998\n"
     ]
    },
    {
     "name": "stderr",
     "output_type": "stream",
     "text": [
      "100%|██████████| 500/500 [00:16<00:00, 31.01it/s]\n"
     ]
    },
    {
     "name": "stdout",
     "output_type": "stream",
     "text": [
      "Train loss: 0.21667402858065907, train f1: 0.2475704471800004\n"
     ]
    },
    {
     "name": "stderr",
     "output_type": "stream",
     "text": [
      "100%|██████████| 125/125 [00:01<00:00, 80.98it/s]\n"
     ]
    },
    {
     "name": "stdout",
     "output_type": "stream",
     "text": [
      "Val loss: 0.2254043202213943, val f1: 0.25624018984\n"
     ]
    },
    {
     "name": "stderr",
     "output_type": "stream",
     "text": [
      "100%|██████████| 500/500 [00:16<00:00, 31.01it/s]\n"
     ]
    },
    {
     "name": "stdout",
     "output_type": "stream",
     "text": [
      "Train loss: 0.18566160444403068, train f1: 0.2591984240400003\n"
     ]
    },
    {
     "name": "stderr",
     "output_type": "stream",
     "text": [
      "100%|██████████| 125/125 [00:01<00:00, 81.19it/s]\n"
     ]
    },
    {
     "name": "stdout",
     "output_type": "stream",
     "text": [
      "Val loss: 0.19115957633778452, val f1: 0.3118624509599999\n"
     ]
    },
    {
     "name": "stderr",
     "output_type": "stream",
     "text": [
      "100%|██████████| 500/500 [00:16<00:00, 31.02it/s]\n"
     ]
    },
    {
     "name": "stdout",
     "output_type": "stream",
     "text": [
      "Train loss: 0.15646877658268205, train f1: 0.3169475102999996\n"
     ]
    },
    {
     "name": "stderr",
     "output_type": "stream",
     "text": [
      "100%|██████████| 125/125 [00:01<00:00, 81.34it/s]\n"
     ]
    },
    {
     "name": "stdout",
     "output_type": "stream",
     "text": [
      "Val loss: 0.1660174609683454, val f1: 0.28883704031999996\n"
     ]
    },
    {
     "name": "stderr",
     "output_type": "stream",
     "text": [
      "100%|██████████| 500/500 [00:16<00:00, 31.05it/s]\n"
     ]
    },
    {
     "name": "stdout",
     "output_type": "stream",
     "text": [
      "Train loss: 0.12313122832324007, train f1: 0.35723883533999995\n"
     ]
    },
    {
     "name": "stderr",
     "output_type": "stream",
     "text": [
      "100%|██████████| 125/125 [00:01<00:00, 81.42it/s]\n"
     ]
    },
    {
     "name": "stdout",
     "output_type": "stream",
     "text": [
      "Val loss: 0.14438146662991494, val f1: 0.3599978503200001\n"
     ]
    },
    {
     "name": "stderr",
     "output_type": "stream",
     "text": [
      "100%|██████████| 500/500 [00:16<00:00, 31.07it/s]\n"
     ]
    },
    {
     "name": "stdout",
     "output_type": "stream",
     "text": [
      "Train loss: 0.09546658260392724, train f1: 0.44115280915999994\n"
     ]
    },
    {
     "name": "stderr",
     "output_type": "stream",
     "text": [
      "100%|██████████| 125/125 [00:01<00:00, 81.34it/s]\n"
     ]
    },
    {
     "name": "stdout",
     "output_type": "stream",
     "text": [
      "Val loss: 0.09436909574479796, val f1: 0.39564971904\n"
     ]
    },
    {
     "name": "stderr",
     "output_type": "stream",
     "text": [
      "100%|██████████| 500/500 [00:16<00:00, 31.09it/s]\n"
     ]
    },
    {
     "name": "stdout",
     "output_type": "stream",
     "text": [
      "Train loss: 0.059554635949589284, train f1: 0.6010677656\n"
     ]
    },
    {
     "name": "stderr",
     "output_type": "stream",
     "text": [
      "100%|██████████| 125/125 [00:01<00:00, 81.61it/s]\n"
     ]
    },
    {
     "name": "stdout",
     "output_type": "stream",
     "text": [
      "Val loss: 0.06538761637874996, val f1: 0.6114360750399999\n"
     ]
    },
    {
     "name": "stderr",
     "output_type": "stream",
     "text": [
      "100%|██████████| 500/500 [00:16<00:00, 31.11it/s]\n"
     ]
    },
    {
     "name": "stdout",
     "output_type": "stream",
     "text": [
      "Train loss: 0.03415198200128725, train f1: 0.7556825397599998\n"
     ]
    },
    {
     "name": "stderr",
     "output_type": "stream",
     "text": [
      "100%|██████████| 125/125 [00:01<00:00, 81.48it/s]\n"
     ]
    },
    {
     "name": "stdout",
     "output_type": "stream",
     "text": [
      "Val loss: 0.032017733050961394, val f1: 0.74986666672\n"
     ]
    },
    {
     "name": "stderr",
     "output_type": "stream",
     "text": [
      "100%|██████████| 500/500 [00:16<00:00, 31.14it/s]\n"
     ]
    },
    {
     "name": "stdout",
     "output_type": "stream",
     "text": [
      "Train loss: 0.017356345192284378, train f1: 0.928\n"
     ]
    },
    {
     "name": "stderr",
     "output_type": "stream",
     "text": [
      "100%|██████████| 125/125 [00:01<00:00, 81.75it/s]\n"
     ]
    },
    {
     "name": "stdout",
     "output_type": "stream",
     "text": [
      "Val loss: 0.013855339191184613, val f1: 0.88\n"
     ]
    },
    {
     "data": {
      "image/png": "[encoded data removed]",
      "text/plain": [
       "<Figure size 640x480 with 1 Axes>"
      ]
     },
     "metadata": {},
     "output_type": "display_data"
    },
    {
     "data": {
      "image/png": "[encoded data removed]",
      "text/plain": [
       "<Figure size 640x480 with 1 Axes>"
      ]
     },
     "metadata": {},
     "output_type": "display_data"
    }
   ],
   "source": [
    "TRAIN_BATCH_SIZE = 16\n",
    "VAL_BATCH_SIZE = 16\n",
    "EPOCHS = 15\n",
    "train_loss = []\n",
    "val_loss = []\n",
    "train_f1 = []\n",
    "val_f1 = []\n",
    "\n",
    "for epoch in range(EPOCHS):\n",
    "    model.train()\n",
    "    total_loss = 0\n",
    "    total_f1 = 0\n",
    "    counter =0\n",
    "    for batch in tqdm(train_dataloader):\n",
    "        \n",
    "        inputs = {key: value.to('cuda') for key, value in batch.items() if (key != 'labels' and key != 'tokens')}\n",
    "        outputs = model(**inputs)\n",
    "        \n",
    "        probs = torch.nn.functional.softmax(outputs.logits, dim=2)\n",
    "        \n",
    "        coded_pred = torch.argmax(probs, dim=2)\n",
    "\n",
    "        loss = criterion(outputs.logits.view(-1, 3), batch['labels'].to('cuda').view(-1))\n",
    "        total_loss += loss.item()\n",
    "\n",
    "        optimizer.zero_grad()\n",
    "        loss.backward()\n",
    "        tokens_batched = []\n",
    "        \n",
    "        for ids in batch['input_ids']:\n",
    "            decoded = tokenizer.decode(ids.tolist(), skip_special_tokens=True)\n",
    "            tokens_batched.append(decoded.split())\n",
    "\n",
    "        # print(coded_pred.shape)\n",
    "        # print(batch['labels'].shape)\n",
    "        # raise ConnectionAbortedError\n",
    "    \n",
    "        tokens_gt_batched = []\n",
    "        for batch_idx, sample in enumerate(batch['labels']):\n",
    "            sample_gt = []\n",
    "            for idx, class_t in enumerate(sample[1:len(tokens_batched[batch_idx])+1]):\n",
    "                if class_t != 0:\n",
    "                    sample_gt.append(tokens_batched[batch_idx][idx])\n",
    "            tokens_gt_batched.append(sample_gt)\n",
    "        \n",
    "        tokens_pred_batched = []\n",
    "        for batch_idx, sample in enumerate(coded_pred):\n",
    "            sample_pred = []\n",
    "            for idx, class_t in enumerate(sample[1:len(tokens_batched[batch_idx])+1]):\n",
    "                if class_t != 0:\n",
    "                    sample_pred.append(tokens_batched[batch_idx][idx])\n",
    "            tokens_pred_batched.append(sample_pred)\n",
    "\n",
    "        # for batch_num in range(TRAIN_BATCH_SIZE):\n",
    "        #     max_num_tok = len(tokens_gt_batched[batch_num])\n",
    "        #     if len(tokens_pred_batched[batch_num]) > max_num_tok:\n",
    "        #         for _ in range(len(tokens_pred_batched[batch_num]) - max_num_tok):\n",
    "        #             tokens_gt_batched[batch_num].append('')\n",
    "        #     else:\n",
    "        #         for _ in range(max_num_tok - len(tokens_pred_batched[batch_num])):\n",
    "        #             tokens_pred_batched[batch_num].append('')\n",
    "        \n",
    "        \n",
    "        f1 = comp_metric(tokens_gt_batched, tokens_pred_batched)\n",
    "        total_f1 += f1\n",
    "\n",
    "        optimizer.step()\n",
    "        # if counter % 100 == 0:\n",
    "        # print(f'F1: {f1}, loss: {loss}')\n",
    "        # counter += 1\n",
    "        # if counter == 10:\n",
    "        #     raise ConnectionAbortedError\n",
    "        # scheduler.step()\n",
    "\n",
    "    avg_train_loss = total_loss / len(train_dataloader)\n",
    "    avg_train_f1 = total_f1 / len(train_dataloader)\n",
    "    train_loss.append(avg_train_loss)\n",
    "    train_f1.append(avg_train_f1)\n",
    "    print(f\"Train loss: {avg_train_loss}, train f1: {avg_train_f1}\")\n",
    "    \n",
    "    model.eval()\n",
    "    total_val_loss = 0\n",
    "    total_val_f1 = 0\n",
    "    with torch.no_grad():\n",
    "        for batch in tqdm(val_dataloader):\n",
    "            inputs = {key: value.to('cuda') for key, value in batch.items() if key != 'labels'}\n",
    "            outputs = model(**inputs, labels=batch['labels'].to('cuda'))\n",
    "\n",
    "            probs = torch.nn.functional.softmax(outputs.logits, dim=2)\n",
    "        \n",
    "            coded_pred = torch.argmax(probs, dim=2)\n",
    "            torch.nn.utils.clip_grad_value_(model.parameters(), 10)\n",
    "            loss = criterion(outputs.logits.view(-1, 3), batch['labels'].to('cuda').view(-1))\n",
    "            total_val_loss += loss.item()\n",
    "\n",
    "            tokens_batched = []\n",
    "            \n",
    "            for ids in batch['input_ids']:\n",
    "                decoded = tokenizer.decode(ids.tolist(), skip_special_tokens=True)\n",
    "                tokens_batched.append(decoded.split())\n",
    "\n",
    "            tokens_gt_batched = []\n",
    "            for batch_idx, sample in enumerate(batch['labels']):\n",
    "                sample_gt = []\n",
    "                for idx, class_t in enumerate(sample[1:len(tokens_batched[batch_idx])+1]):\n",
    "                    if class_t != 0:\n",
    "                        sample_gt.append(tokens_batched[batch_idx][idx])\n",
    "                tokens_gt_batched.append(sample_gt)\n",
    "            \n",
    "            tokens_pred_batched = []\n",
    "            for batch_idx, sample in enumerate(coded_pred):\n",
    "                sample_pred = []\n",
    "                for idx, class_t in enumerate(sample[1:len(tokens_batched[batch_idx])+1]):\n",
    "                    if class_t != 0:\n",
    "                        sample_pred.append(tokens_batched[batch_idx][idx])\n",
    "                tokens_pred_batched.append(sample_pred)\n",
    "\n",
    "            # for batch_num in range(TRAIN_BATCH_SIZE):\n",
    "            #     max_num_tok = len(tokens_gt_batched[batch_num])\n",
    "            #     if len(tokens_pred_batched[batch_num]) > max_num_tok:\n",
    "            #         for _ in range(len(tokens_pred_batched[batch_num]) - max_num_tok):\n",
    "            #             tokens_gt_batched[batch_num].append('')\n",
    "            #     else:\n",
    "            #         for _ in range(max_num_tok - len(tokens_pred_batched[batch_num])):\n",
    "            #             tokens_pred_batched[batch_num].append('')\n",
    "            \n",
    "            \n",
    "            f1 = comp_metric(tokens_gt_batched, tokens_pred_batched)\n",
    "            total_val_f1 += f1\n",
    "\n",
    "    avg_val_loss = total_val_loss / len(val_dataloader)\n",
    "    avg_val_f1 = total_val_f1 / len(val_dataloader)\n",
    "    val_loss.append(avg_val_loss)\n",
    "    val_f1.append(avg_val_f1)\n",
    "    print(f\"Val loss: {avg_val_loss}, val f1: {avg_val_f1}\")\n",
    "    \n",
    "plt.figure()\n",
    "sns.lineplot(train_loss)\n",
    "sns.lineplot(val_loss)\n",
    "plt.savefig('Losses_ru.png')\n",
    "\n",
    "plt.figure()\n",
    "sns.lineplot(train_f1)\n",
    "sns.lineplot(val_f1)\n",
    "plt.savefig('f1_ru.png')\n",
    "\n",
    "torch.save(model, 'ru_300k_last.pth')\n",
    "torch.save(model.state_dict(), 'ru_weights_300k_last.pth')\n",
    "torch.save(tokenizer, 'ru_tokenizer_300k_last.pth')"
   ]
  }
 ],
 "metadata": {
  "kernelspec": {
   "display_name": "venv",
   "language": "python",
   "name": "python3"
  },
  "language_info": {
   "codemirror_mode": {
    "name": "ipython",
    "version": 3
   },
   "file_extension": ".py",
   "mimetype": "text/x-python",
   "name": "python",
   "nbconvert_exporter": "python",
   "pygments_lexer": "ipython3",
   "version": "3.8.10"
  },
  "orig_nbformat": 4
 },
 "nbformat": 4,
 "nbformat_minor": 2
}
