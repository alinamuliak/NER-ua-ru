{
 "cells": [
  {
   "cell_type": "code",
   "execution_count": 1,
   "id": "93f40c73",
   "metadata": {
    "execution": {
     "iopub.execute_input": "2023-12-11T21:19:06.758287Z",
     "iopub.status.busy": "2023-12-11T21:19:06.757767Z",
     "iopub.status.idle": "2023-12-11T21:19:56.412971Z",
     "shell.execute_reply": "2023-12-11T21:19:56.411810Z"
    },
    "papermill": {
     "duration": 49.66822,
     "end_time": "2023-12-11T21:19:56.415984",
     "exception": false,
     "start_time": "2023-12-11T21:19:06.747764",
     "status": "completed"
    },
    "tags": []
   },
   "outputs": [
    {
     "name": "stdout",
     "output_type": "stream",
     "text": [
      "Collecting pycld3\r\n",
      "  Downloading pycld3-0.22.tar.gz (726 kB)\r\n",
      "\u001b[2K     \u001b[90m━━━━━━━━━━━━━━━━━━━━━━━━━━━━━━━━━━━━━━━\u001b[0m \u001b[32m726.2/726.2 kB\u001b[0m \u001b[31m9.7 MB/s\u001b[0m eta \u001b[36m0:00:00\u001b[0m\r\n",
      "\u001b[?25h  Preparing metadata (setup.py) ... \u001b[?25l-\b \b\\\b \bdone\r\n",
      "\u001b[?25hBuilding wheels for collected packages: pycld3\r\n",
      "  Building wheel for pycld3 (setup.py) ... \u001b[?25l-\b \b\\\b \b|\b \b/\b \b-\b \bdone\r\n",
      "\u001b[?25h  Created wheel for pycld3: filename=pycld3-0.22-cp310-cp310-linux_x86_64.whl size=521926 sha256=f352a7774e6ad3220f90bb6b7bfcee5cc8c605ae64b25edb0f9b8d1a16c039e0\r\n",
      "  Stored in directory: /root/.cache/pip/wheels/45/d5/83/9a7a38189ea5f936288b326094526bbc31fe8a4dc79587fb7a\r\n",
      "Successfully built pycld3\r\n",
      "Installing collected packages: pycld3\r\n",
      "Successfully installed pycld3-0.22\r\n"
     ]
    }
   ],
   "source": [
    "! pip install pycld3"
   ]
  },
  {
   "cell_type": "code",
   "execution_count": 2,
   "id": "74179fee",
   "metadata": {
    "execution": {
     "iopub.execute_input": "2023-12-11T21:19:56.436799Z",
     "iopub.status.busy": "2023-12-11T21:19:56.436309Z",
     "iopub.status.idle": "2023-12-11T21:19:56.890110Z",
     "shell.execute_reply": "2023-12-11T21:19:56.889136Z"
    },
    "papermill": {
     "duration": 0.467479,
     "end_time": "2023-12-11T21:19:56.892929",
     "exception": false,
     "start_time": "2023-12-11T21:19:56.425450",
     "status": "completed"
    },
    "tags": []
   },
   "outputs": [],
   "source": [
    "import pandas as pd\n",
    "import cld3\n",
    "import numpy as np"
   ]
  },
  {
   "cell_type": "code",
   "execution_count": 3,
   "id": "e9e55ff0",
   "metadata": {
    "execution": {
     "iopub.execute_input": "2023-12-11T21:19:56.913129Z",
     "iopub.status.busy": "2023-12-11T21:19:56.912522Z",
     "iopub.status.idle": "2023-12-11T21:19:56.945899Z",
     "shell.execute_reply": "2023-12-11T21:19:56.944733Z"
    },
    "papermill": {
     "duration": 0.046609,
     "end_time": "2023-12-11T21:19:56.948717",
     "exception": false,
     "start_time": "2023-12-11T21:19:56.902108",
     "status": "completed"
    },
    "tags": []
   },
   "outputs": [],
   "source": [
    "df = pd.read_csv(\"/kaggle/input/nlp-telegram-locations-extractions/test.csv\")"
   ]
  },
  {
   "cell_type": "code",
   "execution_count": 4,
   "id": "91846e6c",
   "metadata": {
    "execution": {
     "iopub.execute_input": "2023-12-11T21:19:56.969589Z",
     "iopub.status.busy": "2023-12-11T21:19:56.968964Z",
     "iopub.status.idle": "2023-12-11T21:19:56.989604Z",
     "shell.execute_reply": "2023-12-11T21:19:56.988409Z"
    },
    "papermill": {
     "duration": 0.03387,
     "end_time": "2023-12-11T21:19:56.992070",
     "exception": false,
     "start_time": "2023-12-11T21:19:56.958200",
     "status": "completed"
    },
    "tags": []
   },
   "outputs": [
    {
     "data": {
      "text/html": [
       "<div>\n",
       "<style scoped>\n",
       "    .dataframe tbody tr th:only-of-type {\n",
       "        vertical-align: middle;\n",
       "    }\n",
       "\n",
       "    .dataframe tbody tr th {\n",
       "        vertical-align: top;\n",
       "    }\n",
       "\n",
       "    .dataframe thead th {\n",
       "        text-align: right;\n",
       "    }\n",
       "</style>\n",
       "<table border=\"1\" class=\"dataframe\">\n",
       "  <thead>\n",
       "    <tr style=\"text-align: right;\">\n",
       "      <th></th>\n",
       "      <th>text_id</th>\n",
       "      <th>text</th>\n",
       "    </tr>\n",
       "  </thead>\n",
       "  <tbody>\n",
       "    <tr>\n",
       "      <th>0</th>\n",
       "      <td>0</td>\n",
       "      <td>#нампишут на Троещине маньяк забрал жизни уже ...</td>\n",
       "    </tr>\n",
       "    <tr>\n",
       "      <th>1</th>\n",
       "      <td>1</td>\n",
       "      <td>Патрульні взяли участь у \"Забігу в вишиванках ...</td>\n",
       "    </tr>\n",
       "    <tr>\n",
       "      <th>2</th>\n",
       "      <td>2</td>\n",
       "      <td>«Лети, Соколе…»: у Києві попрощались із загибл...</td>\n",
       "    </tr>\n",
       "    <tr>\n",
       "      <th>3</th>\n",
       "      <td>3</td>\n",
       "      <td>Ваш вибір?\\n\\nhttps://vm.tiktok.com/ZMj8etTtY</td>\n",
       "    </tr>\n",
       "    <tr>\n",
       "      <th>4</th>\n",
       "      <td>4</td>\n",
       "      <td>Кабмін звільнив голову Держагентства з управлі...</td>\n",
       "    </tr>\n",
       "  </tbody>\n",
       "</table>\n",
       "</div>"
      ],
      "text/plain": [
       "   text_id                                               text\n",
       "0        0  #нампишут на Троещине маньяк забрал жизни уже ...\n",
       "1        1  Патрульні взяли участь у \"Забігу в вишиванках ...\n",
       "2        2  «Лети, Соколе…»: у Києві попрощались із загибл...\n",
       "3        3      Ваш вибір?\\n\\nhttps://vm.tiktok.com/ZMj8etTtY\n",
       "4        4  Кабмін звільнив голову Держагентства з управлі..."
      ]
     },
     "execution_count": 4,
     "metadata": {},
     "output_type": "execute_result"
    }
   ],
   "source": [
    "df.head()"
   ]
  },
  {
   "cell_type": "code",
   "execution_count": 5,
   "id": "463e0c66",
   "metadata": {
    "execution": {
     "iopub.execute_input": "2023-12-11T21:19:57.012642Z",
     "iopub.status.busy": "2023-12-11T21:19:57.012220Z",
     "iopub.status.idle": "2023-12-11T21:19:57.018564Z",
     "shell.execute_reply": "2023-12-11T21:19:57.016951Z"
    },
    "papermill": {
     "duration": 0.019807,
     "end_time": "2023-12-11T21:19:57.021349",
     "exception": false,
     "start_time": "2023-12-11T21:19:57.001542",
     "status": "completed"
    },
    "tags": []
   },
   "outputs": [],
   "source": [
    "def set_label_cld3(message: str) -> str:\n",
    "  label = cld3.get_language(message)\n",
    "  if label[0] == 'uk':\n",
    "    return 'u'\n",
    "  else:\n",
    "    return 'r'"
   ]
  },
  {
   "cell_type": "code",
   "execution_count": 6,
   "id": "0dbe7392",
   "metadata": {
    "execution": {
     "iopub.execute_input": "2023-12-11T21:19:57.041901Z",
     "iopub.status.busy": "2023-12-11T21:19:57.041400Z",
     "iopub.status.idle": "2023-12-11T21:19:57.256244Z",
     "shell.execute_reply": "2023-12-11T21:19:57.255025Z"
    },
    "papermill": {
     "duration": 0.22796,
     "end_time": "2023-12-11T21:19:57.258728",
     "exception": false,
     "start_time": "2023-12-11T21:19:57.030768",
     "status": "completed"
    },
    "tags": []
   },
   "outputs": [],
   "source": [
    "df['lang'] =  np.vectorize(set_label_cld3)(df['text'])"
   ]
  },
  {
   "cell_type": "code",
   "execution_count": 7,
   "id": "bebc3e4d",
   "metadata": {
    "execution": {
     "iopub.execute_input": "2023-12-11T21:19:57.280203Z",
     "iopub.status.busy": "2023-12-11T21:19:57.279258Z",
     "iopub.status.idle": "2023-12-11T21:19:57.290895Z",
     "shell.execute_reply": "2023-12-11T21:19:57.289746Z"
    },
    "papermill": {
     "duration": 0.024686,
     "end_time": "2023-12-11T21:19:57.293206",
     "exception": false,
     "start_time": "2023-12-11T21:19:57.268520",
     "status": "completed"
    },
    "tags": []
   },
   "outputs": [
    {
     "data": {
      "text/html": [
       "<div>\n",
       "<style scoped>\n",
       "    .dataframe tbody tr th:only-of-type {\n",
       "        vertical-align: middle;\n",
       "    }\n",
       "\n",
       "    .dataframe tbody tr th {\n",
       "        vertical-align: top;\n",
       "    }\n",
       "\n",
       "    .dataframe thead th {\n",
       "        text-align: right;\n",
       "    }\n",
       "</style>\n",
       "<table border=\"1\" class=\"dataframe\">\n",
       "  <thead>\n",
       "    <tr style=\"text-align: right;\">\n",
       "      <th></th>\n",
       "      <th>text_id</th>\n",
       "      <th>text</th>\n",
       "      <th>lang</th>\n",
       "    </tr>\n",
       "  </thead>\n",
       "  <tbody>\n",
       "    <tr>\n",
       "      <th>0</th>\n",
       "      <td>0</td>\n",
       "      <td>#нампишут на Троещине маньяк забрал жизни уже ...</td>\n",
       "      <td>r</td>\n",
       "    </tr>\n",
       "    <tr>\n",
       "      <th>1</th>\n",
       "      <td>1</td>\n",
       "      <td>Патрульні взяли участь у \"Забігу в вишиванках ...</td>\n",
       "      <td>u</td>\n",
       "    </tr>\n",
       "    <tr>\n",
       "      <th>2</th>\n",
       "      <td>2</td>\n",
       "      <td>«Лети, Соколе…»: у Києві попрощались із загибл...</td>\n",
       "      <td>u</td>\n",
       "    </tr>\n",
       "    <tr>\n",
       "      <th>3</th>\n",
       "      <td>3</td>\n",
       "      <td>Ваш вибір?\\n\\nhttps://vm.tiktok.com/ZMj8etTtY</td>\n",
       "      <td>u</td>\n",
       "    </tr>\n",
       "    <tr>\n",
       "      <th>4</th>\n",
       "      <td>4</td>\n",
       "      <td>Кабмін звільнив голову Держагентства з управлі...</td>\n",
       "      <td>u</td>\n",
       "    </tr>\n",
       "  </tbody>\n",
       "</table>\n",
       "</div>"
      ],
      "text/plain": [
       "   text_id                                               text lang\n",
       "0        0  #нампишут на Троещине маньяк забрал жизни уже ...    r\n",
       "1        1  Патрульні взяли участь у \"Забігу в вишиванках ...    u\n",
       "2        2  «Лети, Соколе…»: у Києві попрощались із загибл...    u\n",
       "3        3      Ваш вибір?\\n\\nhttps://vm.tiktok.com/ZMj8etTtY    u\n",
       "4        4  Кабмін звільнив голову Держагентства з управлі...    u"
      ]
     },
     "execution_count": 7,
     "metadata": {},
     "output_type": "execute_result"
    }
   ],
   "source": [
    "df.head()"
   ]
  },
  {
   "cell_type": "code",
   "execution_count": 8,
   "id": "b36843f5",
   "metadata": {
    "execution": {
     "iopub.execute_input": "2023-12-11T21:19:57.314241Z",
     "iopub.status.busy": "2023-12-11T21:19:57.313576Z",
     "iopub.status.idle": "2023-12-11T21:19:57.328194Z",
     "shell.execute_reply": "2023-12-11T21:19:57.327190Z"
    },
    "papermill": {
     "duration": 0.027921,
     "end_time": "2023-12-11T21:19:57.330635",
     "exception": false,
     "start_time": "2023-12-11T21:19:57.302714",
     "status": "completed"
    },
    "tags": []
   },
   "outputs": [
    {
     "data": {
      "text/plain": [
       "lang\n",
       "u    427\n",
       "r     50\n",
       "Name: count, dtype: int64"
      ]
     },
     "execution_count": 8,
     "metadata": {},
     "output_type": "execute_result"
    }
   ],
   "source": [
    "df[\"lang\"].value_counts()"
   ]
  },
  {
   "cell_type": "code",
   "execution_count": 9,
   "id": "71e48d09",
   "metadata": {
    "execution": {
     "iopub.execute_input": "2023-12-11T21:19:57.352825Z",
     "iopub.status.busy": "2023-12-11T21:19:57.351768Z",
     "iopub.status.idle": "2023-12-11T21:19:57.366766Z",
     "shell.execute_reply": "2023-12-11T21:19:57.365517Z"
    },
    "papermill": {
     "duration": 0.029261,
     "end_time": "2023-12-11T21:19:57.369632",
     "exception": false,
     "start_time": "2023-12-11T21:19:57.340371",
     "status": "completed"
    },
    "tags": []
   },
   "outputs": [],
   "source": [
    "df_ua = df[df[\"lang\"] == \"u\"].reset_index(drop=True)\n",
    "df_ru = df[df[\"lang\"] == \"r\"].reset_index(drop=True)"
   ]
  },
  {
   "cell_type": "code",
   "execution_count": 10,
   "id": "3ce7175d",
   "metadata": {
    "execution": {
     "iopub.execute_input": "2023-12-11T21:19:57.391286Z",
     "iopub.status.busy": "2023-12-11T21:19:57.390833Z",
     "iopub.status.idle": "2023-12-11T21:19:57.407685Z",
     "shell.execute_reply": "2023-12-11T21:19:57.406835Z"
    },
    "papermill": {
     "duration": 0.0303,
     "end_time": "2023-12-11T21:19:57.410027",
     "exception": false,
     "start_time": "2023-12-11T21:19:57.379727",
     "status": "completed"
    },
    "tags": []
   },
   "outputs": [
    {
     "data": {
      "text/html": [
       "<div>\n",
       "<style scoped>\n",
       "    .dataframe tbody tr th:only-of-type {\n",
       "        vertical-align: middle;\n",
       "    }\n",
       "\n",
       "    .dataframe tbody tr th {\n",
       "        vertical-align: top;\n",
       "    }\n",
       "\n",
       "    .dataframe thead th {\n",
       "        text-align: right;\n",
       "    }\n",
       "</style>\n",
       "<table border=\"1\" class=\"dataframe\">\n",
       "  <thead>\n",
       "    <tr style=\"text-align: right;\">\n",
       "      <th></th>\n",
       "      <th>text_id</th>\n",
       "      <th>text</th>\n",
       "      <th>lang</th>\n",
       "    </tr>\n",
       "  </thead>\n",
       "  <tbody>\n",
       "    <tr>\n",
       "      <th>0</th>\n",
       "      <td>0</td>\n",
       "      <td>#нампишут на Троещине маньяк забрал жизни уже ...</td>\n",
       "      <td>r</td>\n",
       "    </tr>\n",
       "    <tr>\n",
       "      <th>1</th>\n",
       "      <td>10</td>\n",
       "      <td>Загроза для Житомирщини, Київщини.</td>\n",
       "      <td>r</td>\n",
       "    </tr>\n",
       "    <tr>\n",
       "      <th>2</th>\n",
       "      <td>12</td>\n",
       "      <td>Найдена собака &lt;корге&gt; забежала в маршрутку на...</td>\n",
       "      <td>r</td>\n",
       "    </tr>\n",
       "    <tr>\n",
       "      <th>3</th>\n",
       "      <td>22</td>\n",
       "      <td>Ще ракета на Київ.</td>\n",
       "      <td>r</td>\n",
       "    </tr>\n",
       "    <tr>\n",
       "      <th>4</th>\n",
       "      <td>30</td>\n",
       "      <td>Национальный рекорд: в Дарницком районе сплели...</td>\n",
       "      <td>r</td>\n",
       "    </tr>\n",
       "    <tr>\n",
       "      <th>5</th>\n",
       "      <td>47</td>\n",
       "      <td>Если владельцы заведений общепита и посетители...</td>\n",
       "      <td>r</td>\n",
       "    </tr>\n",
       "    <tr>\n",
       "      <th>6</th>\n",
       "      <td>48</td>\n",
       "      <td>Ночью россияне атаковали столицу шахедами и ра...</td>\n",
       "      <td>r</td>\n",
       "    </tr>\n",
       "    <tr>\n",
       "      <th>7</th>\n",
       "      <td>53</td>\n",
       "      <td>СБУ сообщила о подозрении киевскому бизнесмену...</td>\n",
       "      <td>r</td>\n",
       "    </tr>\n",
       "    <tr>\n",
       "      <th>8</th>\n",
       "      <td>57</td>\n",
       "      <td>Приват24 этой ночью не будет работать\\n\\n3 00:...</td>\n",
       "      <td>r</td>\n",
       "    </tr>\n",
       "    <tr>\n",
       "      <th>9</th>\n",
       "      <td>58</td>\n",
       "      <td>«УЗ» назначила дополнительные пригородные поез...</td>\n",
       "      <td>r</td>\n",
       "    </tr>\n",
       "    <tr>\n",
       "      <th>10</th>\n",
       "      <td>61</td>\n",
       "      <td>Есть 3 сценария. Будет ли в Украине зимой свет...</td>\n",
       "      <td>r</td>\n",
       "    </tr>\n",
       "    <tr>\n",
       "      <th>11</th>\n",
       "      <td>73</td>\n",
       "      <td>👂На Дмитровской по старой схеме ликвидировали ...</td>\n",
       "      <td>r</td>\n",
       "    </tr>\n",
       "    <tr>\n",
       "      <th>12</th>\n",
       "      <td>96</td>\n",
       "      <td>👂Виталик, люди с Сырца устали ждать горячую во...</td>\n",
       "      <td>r</td>\n",
       "    </tr>\n",
       "    <tr>\n",
       "      <th>13</th>\n",
       "      <td>111</td>\n",
       "      <td>Оболонь без купюр.\\n\\nЖиття🫶Оболонь</td>\n",
       "      <td>r</td>\n",
       "    </tr>\n",
       "    <tr>\n",
       "      <th>14</th>\n",
       "      <td>116</td>\n",
       "      <td>Так подготовили укрытие к 1 сентября в Национа...</td>\n",
       "      <td>r</td>\n",
       "    </tr>\n",
       "    <tr>\n",
       "      <th>15</th>\n",
       "      <td>133</td>\n",
       "      <td>Возгорание возникло на ул. Димитровская, 4 в о...</td>\n",
       "      <td>r</td>\n",
       "    </tr>\n",
       "    <tr>\n",
       "      <th>16</th>\n",
       "      <td>141</td>\n",
       "      <td>Скорострелы</td>\n",
       "      <td>r</td>\n",
       "    </tr>\n",
       "    <tr>\n",
       "      <th>17</th>\n",
       "      <td>175</td>\n",
       "      <td>Вчера в Киеве спасли \"Бэтмена\", пытавшегося пе...</td>\n",
       "      <td>r</td>\n",
       "    </tr>\n",
       "    <tr>\n",
       "      <th>18</th>\n",
       "      <td>176</td>\n",
       "      <td>❗В Раде зарегистрировали законопроект об отмен...</td>\n",
       "      <td>r</td>\n",
       "    </tr>\n",
       "    <tr>\n",
       "      <th>19</th>\n",
       "      <td>212</td>\n",
       "      <td>русня ниє 😀\\n\\n@lossolomas_kyiv</td>\n",
       "      <td>r</td>\n",
       "    </tr>\n",
       "    <tr>\n",
       "      <th>20</th>\n",
       "      <td>218</td>\n",
       "      <td>-264.660</td>\n",
       "      <td>r</td>\n",
       "    </tr>\n",
       "    <tr>\n",
       "      <th>21</th>\n",
       "      <td>228</td>\n",
       "      <td>Коломойский прибыл в Шевченковский суд</td>\n",
       "      <td>r</td>\n",
       "    </tr>\n",
       "    <tr>\n",
       "      <th>22</th>\n",
       "      <td>241</td>\n",
       "      <td>❗В Украине будут мобилизовать ограниченно приг...</td>\n",
       "      <td>r</td>\n",
       "    </tr>\n",
       "    <tr>\n",
       "      <th>23</th>\n",
       "      <td>243</td>\n",
       "      <td>Ще летить</td>\n",
       "      <td>r</td>\n",
       "    </tr>\n",
       "    <tr>\n",
       "      <th>24</th>\n",
       "      <td>252</td>\n",
       "      <td>Ганьба\\n\\nBy Dima Kovalenko</td>\n",
       "      <td>r</td>\n",
       "    </tr>\n",
       "    <tr>\n",
       "      <th>25</th>\n",
       "      <td>257</td>\n",
       "      <td>Сегодня утром на Житомирском шоссе в Святошинс...</td>\n",
       "      <td>r</td>\n",
       "    </tr>\n",
       "    <tr>\n",
       "      <th>26</th>\n",
       "      <td>258</td>\n",
       "      <td>👂Блогерша Даша Квиткова впиндюрилась на Лексус...</td>\n",
       "      <td>r</td>\n",
       "    </tr>\n",
       "    <tr>\n",
       "      <th>27</th>\n",
       "      <td>275</td>\n",
       "      <td>В ближайшее время и до конца суток, а также но...</td>\n",
       "      <td>r</td>\n",
       "    </tr>\n",
       "    <tr>\n",
       "      <th>28</th>\n",
       "      <td>288</td>\n",
       "      <td>На днях наши бойцы из ЗРК \"Стингер\" сбили крыл...</td>\n",
       "      <td>r</td>\n",
       "    </tr>\n",
       "    <tr>\n",
       "      <th>29</th>\n",
       "      <td>289</td>\n",
       "      <td>👂Русня минирует школы в Киеве звонками.\\n\\n👂Ту...</td>\n",
       "      <td>r</td>\n",
       "    </tr>\n",
       "    <tr>\n",
       "      <th>30</th>\n",
       "      <td>302</td>\n",
       "      <td>😂😂😂</td>\n",
       "      <td>r</td>\n",
       "    </tr>\n",
       "    <tr>\n",
       "      <th>31</th>\n",
       "      <td>303</td>\n",
       "      <td>Кличко 👉 🫶 Фіала❤</td>\n",
       "      <td>r</td>\n",
       "    </tr>\n",
       "    <tr>\n",
       "      <th>32</th>\n",
       "      <td>308</td>\n",
       "      <td>👂Пашинная рулит. Сладкий голос, острый язык. М...</td>\n",
       "      <td>r</td>\n",
       "    </tr>\n",
       "    <tr>\n",
       "      <th>33</th>\n",
       "      <td>319</td>\n",
       "      <td>Отец знакомого работает в Псковском ФСБ. Сегод...</td>\n",
       "      <td>r</td>\n",
       "    </tr>\n",
       "    <tr>\n",
       "      <th>34</th>\n",
       "      <td>338</td>\n",
       "      <td>В РБ несколько дней назад доставили первые яде...</td>\n",
       "      <td>r</td>\n",
       "    </tr>\n",
       "    <tr>\n",
       "      <th>35</th>\n",
       "      <td>346</td>\n",
       "      <td>Брянск, шо ти?</td>\n",
       "      <td>r</td>\n",
       "    </tr>\n",
       "    <tr>\n",
       "      <th>36</th>\n",
       "      <td>347</td>\n",
       "      <td>👂Хотим тестить экофлоу и старлинк.</td>\n",
       "      <td>r</td>\n",
       "    </tr>\n",
       "    <tr>\n",
       "      <th>37</th>\n",
       "      <td>353</td>\n",
       "      <td>Последние деньки лета ожидаются довольно жаркими</td>\n",
       "      <td>r</td>\n",
       "    </tr>\n",
       "    <tr>\n",
       "      <th>38</th>\n",
       "      <td>364</td>\n",
       "      <td>Осокорки, Лос Соломас дякує🫂💪</td>\n",
       "      <td>r</td>\n",
       "    </tr>\n",
       "    <tr>\n",
       "      <th>39</th>\n",
       "      <td>377</td>\n",
       "      <td>С 1 сентября 2023 года ПЦУ и УГКЦ переходят на...</td>\n",
       "      <td>r</td>\n",
       "    </tr>\n",
       "    <tr>\n",
       "      <th>40</th>\n",
       "      <td>383</td>\n",
       "      <td>«Першотравень» на пл. Калiнiна (Майдан), 1970-тi</td>\n",
       "      <td>r</td>\n",
       "    </tr>\n",
       "    <tr>\n",
       "      <th>41</th>\n",
       "      <td>384</td>\n",
       "      <td>В Киевской области погиб 4-летний мальчик: его...</td>\n",
       "      <td>r</td>\n",
       "    </tr>\n",
       "    <tr>\n",
       "      <th>42</th>\n",
       "      <td>400</td>\n",
       "      <td>⚡Суд избрал меру пресечения Игорю Коломойскому...</td>\n",
       "      <td>r</td>\n",
       "    </tr>\n",
       "    <tr>\n",
       "      <th>43</th>\n",
       "      <td>407</td>\n",
       "      <td>Сегодня поговорим об ударной коррупции. Много ...</td>\n",
       "      <td>r</td>\n",
       "    </tr>\n",
       "    <tr>\n",
       "      <th>44</th>\n",
       "      <td>414</td>\n",
       "      <td>Горит заброшенный полуразвалившийся дом\\n\\nСоо...</td>\n",
       "      <td>r</td>\n",
       "    </tr>\n",
       "    <tr>\n",
       "      <th>45</th>\n",
       "      <td>455</td>\n",
       "      <td>С 1 сентября по конец июня общественный трансп...</td>\n",
       "      <td>r</td>\n",
       "    </tr>\n",
       "    <tr>\n",
       "      <th>46</th>\n",
       "      <td>462</td>\n",
       "      <td>С 28 августа в Белоцерковской общине алкоголь ...</td>\n",
       "      <td>r</td>\n",
       "    </tr>\n",
       "    <tr>\n",
       "      <th>47</th>\n",
       "      <td>464</td>\n",
       "      <td>😀😀😀\\n\\n@lossolomas_kyiv</td>\n",
       "      <td>r</td>\n",
       "    </tr>\n",
       "    <tr>\n",
       "      <th>48</th>\n",
       "      <td>466</td>\n",
       "      <td>Юго-Западная Ж/Д с 1 по 30 сентября назначит д...</td>\n",
       "      <td>r</td>\n",
       "    </tr>\n",
       "    <tr>\n",
       "      <th>49</th>\n",
       "      <td>470</td>\n",
       "      <td>Уничтожены все 28 крылатых ракет и 15 из 16 уд...</td>\n",
       "      <td>r</td>\n",
       "    </tr>\n",
       "  </tbody>\n",
       "</table>\n",
       "</div>"
      ],
      "text/plain": [
       "    text_id                                               text lang\n",
       "0         0  #нампишут на Троещине маньяк забрал жизни уже ...    r\n",
       "1        10                 Загроза для Житомирщини, Київщини.    r\n",
       "2        12  Найдена собака <корге> забежала в маршрутку на...    r\n",
       "3        22                                 Ще ракета на Київ.    r\n",
       "4        30  Национальный рекорд: в Дарницком районе сплели...    r\n",
       "5        47  Если владельцы заведений общепита и посетители...    r\n",
       "6        48  Ночью россияне атаковали столицу шахедами и ра...    r\n",
       "7        53  СБУ сообщила о подозрении киевскому бизнесмену...    r\n",
       "8        57  Приват24 этой ночью не будет работать\\n\\n3 00:...    r\n",
       "9        58  «УЗ» назначила дополнительные пригородные поез...    r\n",
       "10       61  Есть 3 сценария. Будет ли в Украине зимой свет...    r\n",
       "11       73  👂На Дмитровской по старой схеме ликвидировали ...    r\n",
       "12       96  👂Виталик, люди с Сырца устали ждать горячую во...    r\n",
       "13      111                Оболонь без купюр.\\n\\nЖиття🫶Оболонь    r\n",
       "14      116  Так подготовили укрытие к 1 сентября в Национа...    r\n",
       "15      133  Возгорание возникло на ул. Димитровская, 4 в о...    r\n",
       "16      141                                        Скорострелы    r\n",
       "17      175  Вчера в Киеве спасли \"Бэтмена\", пытавшегося пе...    r\n",
       "18      176  ❗В Раде зарегистрировали законопроект об отмен...    r\n",
       "19      212                    русня ниє 😀\\n\\n@lossolomas_kyiv    r\n",
       "20      218                                           -264.660    r\n",
       "21      228             Коломойский прибыл в Шевченковский суд    r\n",
       "22      241  ❗В Украине будут мобилизовать ограниченно приг...    r\n",
       "23      243                                          Ще летить    r\n",
       "24      252                        Ганьба\\n\\nBy Dima Kovalenko    r\n",
       "25      257  Сегодня утром на Житомирском шоссе в Святошинс...    r\n",
       "26      258  👂Блогерша Даша Квиткова впиндюрилась на Лексус...    r\n",
       "27      275  В ближайшее время и до конца суток, а также но...    r\n",
       "28      288  На днях наши бойцы из ЗРК \"Стингер\" сбили крыл...    r\n",
       "29      289  👂Русня минирует школы в Киеве звонками.\\n\\n👂Ту...    r\n",
       "30      302                                                😂😂😂    r\n",
       "31      303                                  Кличко 👉 🫶 Фіала❤    r\n",
       "32      308  👂Пашинная рулит. Сладкий голос, острый язык. М...    r\n",
       "33      319  Отец знакомого работает в Псковском ФСБ. Сегод...    r\n",
       "34      338  В РБ несколько дней назад доставили первые яде...    r\n",
       "35      346                                     Брянск, шо ти?    r\n",
       "36      347                 👂Хотим тестить экофлоу и старлинк.    r\n",
       "37      353   Последние деньки лета ожидаются довольно жаркими    r\n",
       "38      364                      Осокорки, Лос Соломас дякує🫂💪    r\n",
       "39      377  С 1 сентября 2023 года ПЦУ и УГКЦ переходят на...    r\n",
       "40      383   «Першотравень» на пл. Калiнiна (Майдан), 1970-тi    r\n",
       "41      384  В Киевской области погиб 4-летний мальчик: его...    r\n",
       "42      400  ⚡Суд избрал меру пресечения Игорю Коломойскому...    r\n",
       "43      407  Сегодня поговорим об ударной коррупции. Много ...    r\n",
       "44      414  Горит заброшенный полуразвалившийся дом\\n\\nСоо...    r\n",
       "45      455  С 1 сентября по конец июня общественный трансп...    r\n",
       "46      462  С 28 августа в Белоцерковской общине алкоголь ...    r\n",
       "47      464                            😀😀😀\\n\\n@lossolomas_kyiv    r\n",
       "48      466  Юго-Западная Ж/Д с 1 по 30 сентября назначит д...    r\n",
       "49      470  Уничтожены все 28 крылатых ракет и 15 из 16 уд...    r"
      ]
     },
     "execution_count": 10,
     "metadata": {},
     "output_type": "execute_result"
    }
   ],
   "source": [
    "df_ru"
   ]
  },
  {
   "cell_type": "code",
   "execution_count": 11,
   "id": "e9055e52",
   "metadata": {
    "execution": {
     "iopub.execute_input": "2023-12-11T21:19:57.433477Z",
     "iopub.status.busy": "2023-12-11T21:19:57.432751Z",
     "iopub.status.idle": "2023-12-11T21:20:20.581519Z",
     "shell.execute_reply": "2023-12-11T21:20:20.580161Z"
    },
    "papermill": {
     "duration": 23.163674,
     "end_time": "2023-12-11T21:20:20.584411",
     "exception": false,
     "start_time": "2023-12-11T21:19:57.420737",
     "status": "completed"
    },
    "tags": []
   },
   "outputs": [
    {
     "name": "stdout",
     "output_type": "stream",
     "text": [
      "Collecting ru-core-news-sm==3.7.0\r\n",
      "  Downloading https://github.com/explosion/spacy-models/releases/download/ru_core_news_sm-3.7.0/ru_core_news_sm-3.7.0-py3-none-any.whl (15.3 MB)\r\n",
      "\u001b[2K     \u001b[90m━━━━━━━━━━━━━━━━━━━━━━━━━━━━━━━━━━━━━━━━\u001b[0m \u001b[32m15.3/15.3 MB\u001b[0m \u001b[31m50.2 MB/s\u001b[0m eta \u001b[36m0:00:00\u001b[0m\r\n",
      "\u001b[?25hRequirement already satisfied: spacy<3.8.0,>=3.7.0 in /opt/conda/lib/python3.10/site-packages (from ru-core-news-sm==3.7.0) (3.7.2)\r\n",
      "Collecting pymorphy3>=1.0.0 (from ru-core-news-sm==3.7.0)\r\n",
      "  Obtaining dependency information for pymorphy3>=1.0.0 from https://files.pythonhosted.org/packages/4a/cb/93e0c48d81e341abe615c433411ce5706dda1e0ba2281b91158a17e4ada1/pymorphy3-1.3.1-py3-none-any.whl.metadata\r\n",
      "  Downloading pymorphy3-1.3.1-py3-none-any.whl.metadata (1.9 kB)\r\n",
      "Collecting dawg-python>=0.7.1 (from pymorphy3>=1.0.0->ru-core-news-sm==3.7.0)\r\n",
      "  Downloading DAWG_Python-0.7.2-py2.py3-none-any.whl (11 kB)\r\n",
      "Collecting pymorphy3-dicts-ru (from pymorphy3>=1.0.0->ru-core-news-sm==3.7.0)\r\n",
      "  Downloading pymorphy3_dicts_ru-2.4.417150.4580142-py2.py3-none-any.whl (8.4 MB)\r\n",
      "\u001b[2K     \u001b[90m━━━━━━━━━━━━━━━━━━━━━━━━━━━━━━━━━━━━━━━━\u001b[0m \u001b[32m8.4/8.4 MB\u001b[0m \u001b[31m49.3 MB/s\u001b[0m eta \u001b[36m0:00:00\u001b[0m\r\n",
      "\u001b[?25hRequirement already satisfied: spacy-legacy<3.1.0,>=3.0.11 in /opt/conda/lib/python3.10/site-packages (from spacy<3.8.0,>=3.7.0->ru-core-news-sm==3.7.0) (3.0.12)\r\n",
      "Requirement already satisfied: spacy-loggers<2.0.0,>=1.0.0 in /opt/conda/lib/python3.10/site-packages (from spacy<3.8.0,>=3.7.0->ru-core-news-sm==3.7.0) (1.0.5)\r\n",
      "Requirement already satisfied: murmurhash<1.1.0,>=0.28.0 in /opt/conda/lib/python3.10/site-packages (from spacy<3.8.0,>=3.7.0->ru-core-news-sm==3.7.0) (1.0.10)\r\n",
      "Requirement already satisfied: cymem<2.1.0,>=2.0.2 in /opt/conda/lib/python3.10/site-packages (from spacy<3.8.0,>=3.7.0->ru-core-news-sm==3.7.0) (2.0.8)\r\n",
      "Requirement already satisfied: preshed<3.1.0,>=3.0.2 in /opt/conda/lib/python3.10/site-packages (from spacy<3.8.0,>=3.7.0->ru-core-news-sm==3.7.0) (3.0.9)\r\n",
      "Requirement already satisfied: thinc<8.3.0,>=8.1.8 in /opt/conda/lib/python3.10/site-packages (from spacy<3.8.0,>=3.7.0->ru-core-news-sm==3.7.0) (8.2.1)\r\n",
      "Requirement already satisfied: wasabi<1.2.0,>=0.9.1 in /opt/conda/lib/python3.10/site-packages (from spacy<3.8.0,>=3.7.0->ru-core-news-sm==3.7.0) (1.1.2)\r\n",
      "Requirement already satisfied: srsly<3.0.0,>=2.4.3 in /opt/conda/lib/python3.10/site-packages (from spacy<3.8.0,>=3.7.0->ru-core-news-sm==3.7.0) (2.4.8)\r\n",
      "Requirement already satisfied: catalogue<2.1.0,>=2.0.6 in /opt/conda/lib/python3.10/site-packages (from spacy<3.8.0,>=3.7.0->ru-core-news-sm==3.7.0) (2.0.10)\r\n",
      "Requirement already satisfied: weasel<0.4.0,>=0.1.0 in /opt/conda/lib/python3.10/site-packages (from spacy<3.8.0,>=3.7.0->ru-core-news-sm==3.7.0) (0.3.4)\r\n",
      "Requirement already satisfied: typer<0.10.0,>=0.3.0 in /opt/conda/lib/python3.10/site-packages (from spacy<3.8.0,>=3.7.0->ru-core-news-sm==3.7.0) (0.9.0)\r\n",
      "Requirement already satisfied: smart-open<7.0.0,>=5.2.1 in /opt/conda/lib/python3.10/site-packages (from spacy<3.8.0,>=3.7.0->ru-core-news-sm==3.7.0) (6.3.0)\r\n",
      "Requirement already satisfied: tqdm<5.0.0,>=4.38.0 in /opt/conda/lib/python3.10/site-packages (from spacy<3.8.0,>=3.7.0->ru-core-news-sm==3.7.0) (4.66.1)\r\n",
      "Requirement already satisfied: requests<3.0.0,>=2.13.0 in /opt/conda/lib/python3.10/site-packages (from spacy<3.8.0,>=3.7.0->ru-core-news-sm==3.7.0) (2.31.0)\r\n",
      "Requirement already satisfied: pydantic!=1.8,!=1.8.1,<3.0.0,>=1.7.4 in /opt/conda/lib/python3.10/site-packages (from spacy<3.8.0,>=3.7.0->ru-core-news-sm==3.7.0) (1.10.12)\r\n",
      "Requirement already satisfied: jinja2 in /opt/conda/lib/python3.10/site-packages (from spacy<3.8.0,>=3.7.0->ru-core-news-sm==3.7.0) (3.1.2)\r\n",
      "Requirement already satisfied: setuptools in /opt/conda/lib/python3.10/site-packages (from spacy<3.8.0,>=3.7.0->ru-core-news-sm==3.7.0) (68.1.2)\r\n",
      "Requirement already satisfied: packaging>=20.0 in /opt/conda/lib/python3.10/site-packages (from spacy<3.8.0,>=3.7.0->ru-core-news-sm==3.7.0) (21.3)\r\n",
      "Requirement already satisfied: langcodes<4.0.0,>=3.2.0 in /opt/conda/lib/python3.10/site-packages (from spacy<3.8.0,>=3.7.0->ru-core-news-sm==3.7.0) (3.3.0)\r\n",
      "Requirement already satisfied: numpy>=1.19.0 in /opt/conda/lib/python3.10/site-packages (from spacy<3.8.0,>=3.7.0->ru-core-news-sm==3.7.0) (1.24.3)\r\n",
      "Requirement already satisfied: pyparsing!=3.0.5,>=2.0.2 in /opt/conda/lib/python3.10/site-packages (from packaging>=20.0->spacy<3.8.0,>=3.7.0->ru-core-news-sm==3.7.0) (3.0.9)\r\n",
      "Requirement already satisfied: typing-extensions>=4.2.0 in /opt/conda/lib/python3.10/site-packages (from pydantic!=1.8,!=1.8.1,<3.0.0,>=1.7.4->spacy<3.8.0,>=3.7.0->ru-core-news-sm==3.7.0) (4.5.0)\r\n",
      "Requirement already satisfied: charset-normalizer<4,>=2 in /opt/conda/lib/python3.10/site-packages (from requests<3.0.0,>=2.13.0->spacy<3.8.0,>=3.7.0->ru-core-news-sm==3.7.0) (3.2.0)\r\n",
      "Requirement already satisfied: idna<4,>=2.5 in /opt/conda/lib/python3.10/site-packages (from requests<3.0.0,>=2.13.0->spacy<3.8.0,>=3.7.0->ru-core-news-sm==3.7.0) (3.4)\r\n",
      "Requirement already satisfied: urllib3<3,>=1.21.1 in /opt/conda/lib/python3.10/site-packages (from requests<3.0.0,>=2.13.0->spacy<3.8.0,>=3.7.0->ru-core-news-sm==3.7.0) (1.26.15)\r\n",
      "Requirement already satisfied: certifi>=2017.4.17 in /opt/conda/lib/python3.10/site-packages (from requests<3.0.0,>=2.13.0->spacy<3.8.0,>=3.7.0->ru-core-news-sm==3.7.0) (2023.11.17)\r\n",
      "Requirement already satisfied: blis<0.8.0,>=0.7.8 in /opt/conda/lib/python3.10/site-packages (from thinc<8.3.0,>=8.1.8->spacy<3.8.0,>=3.7.0->ru-core-news-sm==3.7.0) (0.7.11)\r\n",
      "Requirement already satisfied: confection<1.0.0,>=0.0.1 in /opt/conda/lib/python3.10/site-packages (from thinc<8.3.0,>=8.1.8->spacy<3.8.0,>=3.7.0->ru-core-news-sm==3.7.0) (0.1.4)\r\n",
      "Requirement already satisfied: click<9.0.0,>=7.1.1 in /opt/conda/lib/python3.10/site-packages (from typer<0.10.0,>=0.3.0->spacy<3.8.0,>=3.7.0->ru-core-news-sm==3.7.0) (8.1.7)\r\n",
      "Requirement already satisfied: cloudpathlib<0.17.0,>=0.7.0 in /opt/conda/lib/python3.10/site-packages (from weasel<0.4.0,>=0.1.0->spacy<3.8.0,>=3.7.0->ru-core-news-sm==3.7.0) (0.16.0)\r\n",
      "Requirement already satisfied: MarkupSafe>=2.0 in /opt/conda/lib/python3.10/site-packages (from jinja2->spacy<3.8.0,>=3.7.0->ru-core-news-sm==3.7.0) (2.1.3)\r\n",
      "Downloading pymorphy3-1.3.1-py3-none-any.whl (55 kB)\r\n",
      "\u001b[2K   \u001b[90m━━━━━━━━━━━━━━━━━━━━━━━━━━━━━━━━━━━━━━━━\u001b[0m \u001b[32m55.7/55.7 kB\u001b[0m \u001b[31m4.9 MB/s\u001b[0m eta \u001b[36m0:00:00\u001b[0m\r\n",
      "\u001b[?25hInstalling collected packages: pymorphy3-dicts-ru, dawg-python, pymorphy3, ru-core-news-sm\r\n",
      "Successfully installed dawg-python-0.7.2 pymorphy3-1.3.1 pymorphy3-dicts-ru-2.4.417150.4580142 ru-core-news-sm-3.7.0\r\n",
      "\u001b[38;5;2m✔ Download and installation successful\u001b[0m\r\n",
      "You can now load the package via spacy.load('ru_core_news_sm')\r\n"
     ]
    }
   ],
   "source": [
    "! python -m spacy download ru_core_news_sm"
   ]
  },
  {
   "cell_type": "code",
   "execution_count": 12,
   "id": "1050b96e",
   "metadata": {
    "execution": {
     "iopub.execute_input": "2023-12-11T21:20:20.613551Z",
     "iopub.status.busy": "2023-12-11T21:20:20.613104Z",
     "iopub.status.idle": "2023-12-11T21:20:40.385508Z",
     "shell.execute_reply": "2023-12-11T21:20:40.384109Z"
    },
    "papermill": {
     "duration": 19.790393,
     "end_time": "2023-12-11T21:20:40.388483",
     "exception": false,
     "start_time": "2023-12-11T21:20:20.598090",
     "status": "completed"
    },
    "tags": []
   },
   "outputs": [
    {
     "name": "stdout",
     "output_type": "stream",
     "text": [
      "Collecting uk-core-news-sm==3.7.0\r\n",
      "  Downloading https://github.com/explosion/spacy-models/releases/download/uk_core_news_sm-3.7.0/uk_core_news_sm-3.7.0-py3-none-any.whl (14.9 MB)\r\n",
      "\u001b[2K     \u001b[90m━━━━━━━━━━━━━━━━━━━━━━━━━━━━━━━━━━━━━━━━\u001b[0m \u001b[32m14.9/14.9 MB\u001b[0m \u001b[31m58.2 MB/s\u001b[0m eta \u001b[36m0:00:00\u001b[0m\r\n",
      "\u001b[?25hRequirement already satisfied: spacy<3.8.0,>=3.7.0 in /opt/conda/lib/python3.10/site-packages (from uk-core-news-sm==3.7.0) (3.7.2)\r\n",
      "Requirement already satisfied: pymorphy3>=1.0.0 in /opt/conda/lib/python3.10/site-packages (from uk-core-news-sm==3.7.0) (1.3.1)\r\n",
      "Collecting pymorphy3-dicts-uk (from uk-core-news-sm==3.7.0)\r\n",
      "  Downloading pymorphy3_dicts_uk-2.4.1.1.1663094765-py2.py3-none-any.whl (8.2 MB)\r\n",
      "\u001b[2K     \u001b[90m━━━━━━━━━━━━━━━━━━━━━━━━━━━━━━━━━━━━━━━━\u001b[0m \u001b[32m8.2/8.2 MB\u001b[0m \u001b[31m45.0 MB/s\u001b[0m eta \u001b[36m0:00:00\u001b[0m\r\n",
      "\u001b[?25hRequirement already satisfied: dawg-python>=0.7.1 in /opt/conda/lib/python3.10/site-packages (from pymorphy3>=1.0.0->uk-core-news-sm==3.7.0) (0.7.2)\r\n",
      "Requirement already satisfied: pymorphy3-dicts-ru in /opt/conda/lib/python3.10/site-packages (from pymorphy3>=1.0.0->uk-core-news-sm==3.7.0) (2.4.417150.4580142)\r\n",
      "Requirement already satisfied: spacy-legacy<3.1.0,>=3.0.11 in /opt/conda/lib/python3.10/site-packages (from spacy<3.8.0,>=3.7.0->uk-core-news-sm==3.7.0) (3.0.12)\r\n",
      "Requirement already satisfied: spacy-loggers<2.0.0,>=1.0.0 in /opt/conda/lib/python3.10/site-packages (from spacy<3.8.0,>=3.7.0->uk-core-news-sm==3.7.0) (1.0.5)\r\n",
      "Requirement already satisfied: murmurhash<1.1.0,>=0.28.0 in /opt/conda/lib/python3.10/site-packages (from spacy<3.8.0,>=3.7.0->uk-core-news-sm==3.7.0) (1.0.10)\r\n",
      "Requirement already satisfied: cymem<2.1.0,>=2.0.2 in /opt/conda/lib/python3.10/site-packages (from spacy<3.8.0,>=3.7.0->uk-core-news-sm==3.7.0) (2.0.8)\r\n",
      "Requirement already satisfied: preshed<3.1.0,>=3.0.2 in /opt/conda/lib/python3.10/site-packages (from spacy<3.8.0,>=3.7.0->uk-core-news-sm==3.7.0) (3.0.9)\r\n",
      "Requirement already satisfied: thinc<8.3.0,>=8.1.8 in /opt/conda/lib/python3.10/site-packages (from spacy<3.8.0,>=3.7.0->uk-core-news-sm==3.7.0) (8.2.1)\r\n",
      "Requirement already satisfied: wasabi<1.2.0,>=0.9.1 in /opt/conda/lib/python3.10/site-packages (from spacy<3.8.0,>=3.7.0->uk-core-news-sm==3.7.0) (1.1.2)\r\n",
      "Requirement already satisfied: srsly<3.0.0,>=2.4.3 in /opt/conda/lib/python3.10/site-packages (from spacy<3.8.0,>=3.7.0->uk-core-news-sm==3.7.0) (2.4.8)\r\n",
      "Requirement already satisfied: catalogue<2.1.0,>=2.0.6 in /opt/conda/lib/python3.10/site-packages (from spacy<3.8.0,>=3.7.0->uk-core-news-sm==3.7.0) (2.0.10)\r\n",
      "Requirement already satisfied: weasel<0.4.0,>=0.1.0 in /opt/conda/lib/python3.10/site-packages (from spacy<3.8.0,>=3.7.0->uk-core-news-sm==3.7.0) (0.3.4)\r\n",
      "Requirement already satisfied: typer<0.10.0,>=0.3.0 in /opt/conda/lib/python3.10/site-packages (from spacy<3.8.0,>=3.7.0->uk-core-news-sm==3.7.0) (0.9.0)\r\n",
      "Requirement already satisfied: smart-open<7.0.0,>=5.2.1 in /opt/conda/lib/python3.10/site-packages (from spacy<3.8.0,>=3.7.0->uk-core-news-sm==3.7.0) (6.3.0)\r\n",
      "Requirement already satisfied: tqdm<5.0.0,>=4.38.0 in /opt/conda/lib/python3.10/site-packages (from spacy<3.8.0,>=3.7.0->uk-core-news-sm==3.7.0) (4.66.1)\r\n",
      "Requirement already satisfied: requests<3.0.0,>=2.13.0 in /opt/conda/lib/python3.10/site-packages (from spacy<3.8.0,>=3.7.0->uk-core-news-sm==3.7.0) (2.31.0)\r\n",
      "Requirement already satisfied: pydantic!=1.8,!=1.8.1,<3.0.0,>=1.7.4 in /opt/conda/lib/python3.10/site-packages (from spacy<3.8.0,>=3.7.0->uk-core-news-sm==3.7.0) (1.10.12)\r\n",
      "Requirement already satisfied: jinja2 in /opt/conda/lib/python3.10/site-packages (from spacy<3.8.0,>=3.7.0->uk-core-news-sm==3.7.0) (3.1.2)\r\n",
      "Requirement already satisfied: setuptools in /opt/conda/lib/python3.10/site-packages (from spacy<3.8.0,>=3.7.0->uk-core-news-sm==3.7.0) (68.1.2)\r\n",
      "Requirement already satisfied: packaging>=20.0 in /opt/conda/lib/python3.10/site-packages (from spacy<3.8.0,>=3.7.0->uk-core-news-sm==3.7.0) (21.3)\r\n",
      "Requirement already satisfied: langcodes<4.0.0,>=3.2.0 in /opt/conda/lib/python3.10/site-packages (from spacy<3.8.0,>=3.7.0->uk-core-news-sm==3.7.0) (3.3.0)\r\n",
      "Requirement already satisfied: numpy>=1.19.0 in /opt/conda/lib/python3.10/site-packages (from spacy<3.8.0,>=3.7.0->uk-core-news-sm==3.7.0) (1.24.3)\r\n",
      "Requirement already satisfied: pyparsing!=3.0.5,>=2.0.2 in /opt/conda/lib/python3.10/site-packages (from packaging>=20.0->spacy<3.8.0,>=3.7.0->uk-core-news-sm==3.7.0) (3.0.9)\r\n",
      "Requirement already satisfied: typing-extensions>=4.2.0 in /opt/conda/lib/python3.10/site-packages (from pydantic!=1.8,!=1.8.1,<3.0.0,>=1.7.4->spacy<3.8.0,>=3.7.0->uk-core-news-sm==3.7.0) (4.5.0)\r\n",
      "Requirement already satisfied: charset-normalizer<4,>=2 in /opt/conda/lib/python3.10/site-packages (from requests<3.0.0,>=2.13.0->spacy<3.8.0,>=3.7.0->uk-core-news-sm==3.7.0) (3.2.0)\r\n",
      "Requirement already satisfied: idna<4,>=2.5 in /opt/conda/lib/python3.10/site-packages (from requests<3.0.0,>=2.13.0->spacy<3.8.0,>=3.7.0->uk-core-news-sm==3.7.0) (3.4)\r\n",
      "Requirement already satisfied: urllib3<3,>=1.21.1 in /opt/conda/lib/python3.10/site-packages (from requests<3.0.0,>=2.13.0->spacy<3.8.0,>=3.7.0->uk-core-news-sm==3.7.0) (1.26.15)\r\n",
      "Requirement already satisfied: certifi>=2017.4.17 in /opt/conda/lib/python3.10/site-packages (from requests<3.0.0,>=2.13.0->spacy<3.8.0,>=3.7.0->uk-core-news-sm==3.7.0) (2023.11.17)\r\n",
      "Requirement already satisfied: blis<0.8.0,>=0.7.8 in /opt/conda/lib/python3.10/site-packages (from thinc<8.3.0,>=8.1.8->spacy<3.8.0,>=3.7.0->uk-core-news-sm==3.7.0) (0.7.11)\r\n",
      "Requirement already satisfied: confection<1.0.0,>=0.0.1 in /opt/conda/lib/python3.10/site-packages (from thinc<8.3.0,>=8.1.8->spacy<3.8.0,>=3.7.0->uk-core-news-sm==3.7.0) (0.1.4)\r\n",
      "Requirement already satisfied: click<9.0.0,>=7.1.1 in /opt/conda/lib/python3.10/site-packages (from typer<0.10.0,>=0.3.0->spacy<3.8.0,>=3.7.0->uk-core-news-sm==3.7.0) (8.1.7)\r\n",
      "Requirement already satisfied: cloudpathlib<0.17.0,>=0.7.0 in /opt/conda/lib/python3.10/site-packages (from weasel<0.4.0,>=0.1.0->spacy<3.8.0,>=3.7.0->uk-core-news-sm==3.7.0) (0.16.0)\r\n",
      "Requirement already satisfied: MarkupSafe>=2.0 in /opt/conda/lib/python3.10/site-packages (from jinja2->spacy<3.8.0,>=3.7.0->uk-core-news-sm==3.7.0) (2.1.3)\r\n",
      "Installing collected packages: pymorphy3-dicts-uk, uk-core-news-sm\r\n",
      "Successfully installed pymorphy3-dicts-uk-2.4.1.1.1663094765 uk-core-news-sm-3.7.0\r\n",
      "\u001b[38;5;2m✔ Download and installation successful\u001b[0m\r\n",
      "You can now load the package via spacy.load('uk_core_news_sm')\r\n"
     ]
    }
   ],
   "source": [
    "! python -m spacy download uk_core_news_sm"
   ]
  },
  {
   "cell_type": "code",
   "execution_count": 13,
   "id": "439a5fc1",
   "metadata": {
    "execution": {
     "iopub.execute_input": "2023-12-11T21:20:40.422244Z",
     "iopub.status.busy": "2023-12-11T21:20:40.421794Z",
     "iopub.status.idle": "2023-12-11T21:20:48.427392Z",
     "shell.execute_reply": "2023-12-11T21:20:48.426238Z"
    },
    "papermill": {
     "duration": 8.02568,
     "end_time": "2023-12-11T21:20:48.430183",
     "exception": false,
     "start_time": "2023-12-11T21:20:40.404503",
     "status": "completed"
    },
    "tags": []
   },
   "outputs": [],
   "source": [
    "import spacy\n",
    "nlp_ru = spacy.load('ru_core_news_sm')\n",
    "nlp_ua = spacy.load('uk_core_news_sm')"
   ]
  },
  {
   "cell_type": "code",
   "execution_count": 14,
   "id": "7056f8ec",
   "metadata": {
    "execution": {
     "iopub.execute_input": "2023-12-11T21:20:48.464503Z",
     "iopub.status.busy": "2023-12-11T21:20:48.464091Z",
     "iopub.status.idle": "2023-12-11T21:20:48.475840Z",
     "shell.execute_reply": "2023-12-11T21:20:48.474721Z"
    },
    "papermill": {
     "duration": 0.031786,
     "end_time": "2023-12-11T21:20:48.478373",
     "exception": false,
     "start_time": "2023-12-11T21:20:48.446587",
     "status": "completed"
    },
    "tags": []
   },
   "outputs": [
    {
     "data": {
      "text/html": [
       "<div>\n",
       "<style scoped>\n",
       "    .dataframe tbody tr th:only-of-type {\n",
       "        vertical-align: middle;\n",
       "    }\n",
       "\n",
       "    .dataframe tbody tr th {\n",
       "        vertical-align: top;\n",
       "    }\n",
       "\n",
       "    .dataframe thead th {\n",
       "        text-align: right;\n",
       "    }\n",
       "</style>\n",
       "<table border=\"1\" class=\"dataframe\">\n",
       "  <thead>\n",
       "    <tr style=\"text-align: right;\">\n",
       "      <th></th>\n",
       "      <th>text_id</th>\n",
       "      <th>text</th>\n",
       "      <th>lang</th>\n",
       "    </tr>\n",
       "  </thead>\n",
       "  <tbody>\n",
       "    <tr>\n",
       "      <th>0</th>\n",
       "      <td>0</td>\n",
       "      <td>#нампишут на Троещине маньяк забрал жизни уже ...</td>\n",
       "      <td>r</td>\n",
       "    </tr>\n",
       "    <tr>\n",
       "      <th>1</th>\n",
       "      <td>1</td>\n",
       "      <td>Патрульні взяли участь у \"Забігу в вишиванках ...</td>\n",
       "      <td>u</td>\n",
       "    </tr>\n",
       "    <tr>\n",
       "      <th>2</th>\n",
       "      <td>2</td>\n",
       "      <td>«Лети, Соколе…»: у Києві попрощались із загибл...</td>\n",
       "      <td>u</td>\n",
       "    </tr>\n",
       "    <tr>\n",
       "      <th>3</th>\n",
       "      <td>3</td>\n",
       "      <td>Ваш вибір?\\n\\nhttps://vm.tiktok.com/ZMj8etTtY</td>\n",
       "      <td>u</td>\n",
       "    </tr>\n",
       "    <tr>\n",
       "      <th>4</th>\n",
       "      <td>4</td>\n",
       "      <td>Кабмін звільнив голову Держагентства з управлі...</td>\n",
       "      <td>u</td>\n",
       "    </tr>\n",
       "  </tbody>\n",
       "</table>\n",
       "</div>"
      ],
      "text/plain": [
       "   text_id                                               text lang\n",
       "0        0  #нампишут на Троещине маньяк забрал жизни уже ...    r\n",
       "1        1  Патрульні взяли участь у \"Забігу в вишиванках ...    u\n",
       "2        2  «Лети, Соколе…»: у Києві попрощались із загибл...    u\n",
       "3        3      Ваш вибір?\\n\\nhttps://vm.tiktok.com/ZMj8etTtY    u\n",
       "4        4  Кабмін звільнив голову Держагентства з управлі...    u"
      ]
     },
     "execution_count": 14,
     "metadata": {},
     "output_type": "execute_result"
    }
   ],
   "source": [
    "df.head()"
   ]
  },
  {
   "cell_type": "code",
   "execution_count": 15,
   "id": "b9d652f1",
   "metadata": {
    "execution": {
     "iopub.execute_input": "2023-12-11T21:20:48.511895Z",
     "iopub.status.busy": "2023-12-11T21:20:48.511500Z",
     "iopub.status.idle": "2023-12-11T21:21:08.616335Z",
     "shell.execute_reply": "2023-12-11T21:21:08.615237Z"
    },
    "papermill": {
     "duration": 20.12466,
     "end_time": "2023-12-11T21:21:08.618919",
     "exception": false,
     "start_time": "2023-12-11T21:20:48.494259",
     "status": "completed"
    },
    "tags": []
   },
   "outputs": [],
   "source": [
    "locations = []\n",
    "markers = []\n",
    "for index, row in df.iterrows():\n",
    "    if row[\"lang\"] == \"u\":\n",
    "        doc = nlp_ua(row[\"text\"])\n",
    "    else:\n",
    "        doc = nlp_ru(row[\"text\"])\n",
    "    m = []\n",
    "    l = []\n",
    "    for ent in doc.ents:\n",
    "#         if ent.label_ == \"GPE\" or ent.label_ == \"LOC\":\n",
    "        if ent.label_ == \"LOC\":  # Filter for geographical and location entities\n",
    "            m.append((ent.start_char, ent.end_char))\n",
    "            l.append(str(ent))\n",
    "    locations.append(str(l))\n",
    "    markers.append(str(m))"
   ]
  },
  {
   "cell_type": "code",
   "execution_count": 16,
   "id": "db048345",
   "metadata": {
    "execution": {
     "iopub.execute_input": "2023-12-11T21:21:08.653150Z",
     "iopub.status.busy": "2023-12-11T21:21:08.652248Z",
     "iopub.status.idle": "2023-12-11T21:21:08.658876Z",
     "shell.execute_reply": "2023-12-11T21:21:08.657689Z"
    },
    "papermill": {
     "duration": 0.026319,
     "end_time": "2023-12-11T21:21:08.661394",
     "exception": false,
     "start_time": "2023-12-11T21:21:08.635075",
     "status": "completed"
    },
    "tags": []
   },
   "outputs": [],
   "source": [
    "df[\"locations\"] = locations"
   ]
  },
  {
   "cell_type": "code",
   "execution_count": 17,
   "id": "fabbc3dd",
   "metadata": {
    "execution": {
     "iopub.execute_input": "2023-12-11T21:21:08.695645Z",
     "iopub.status.busy": "2023-12-11T21:21:08.695130Z",
     "iopub.status.idle": "2023-12-11T21:21:08.702298Z",
     "shell.execute_reply": "2023-12-11T21:21:08.701237Z"
    },
    "papermill": {
     "duration": 0.027163,
     "end_time": "2023-12-11T21:21:08.704720",
     "exception": false,
     "start_time": "2023-12-11T21:21:08.677557",
     "status": "completed"
    },
    "tags": []
   },
   "outputs": [],
   "source": [
    "df[\"loc_markers\"] = markers"
   ]
  },
  {
   "cell_type": "code",
   "execution_count": 18,
   "id": "8aa235a1",
   "metadata": {
    "execution": {
     "iopub.execute_input": "2023-12-11T21:21:08.738951Z",
     "iopub.status.busy": "2023-12-11T21:21:08.738494Z",
     "iopub.status.idle": "2023-12-11T21:21:08.747203Z",
     "shell.execute_reply": "2023-12-11T21:21:08.746128Z"
    },
    "papermill": {
     "duration": 0.028612,
     "end_time": "2023-12-11T21:21:08.749434",
     "exception": false,
     "start_time": "2023-12-11T21:21:08.720822",
     "status": "completed"
    },
    "tags": []
   },
   "outputs": [],
   "source": [
    "df.drop(columns=[\"lang\"], inplace=True)"
   ]
  },
  {
   "cell_type": "code",
   "execution_count": 19,
   "id": "b2dc8a44",
   "metadata": {
    "execution": {
     "iopub.execute_input": "2023-12-11T21:21:08.784109Z",
     "iopub.status.busy": "2023-12-11T21:21:08.783403Z",
     "iopub.status.idle": "2023-12-11T21:21:08.795746Z",
     "shell.execute_reply": "2023-12-11T21:21:08.794700Z"
    },
    "papermill": {
     "duration": 0.032166,
     "end_time": "2023-12-11T21:21:08.797970",
     "exception": false,
     "start_time": "2023-12-11T21:21:08.765804",
     "status": "completed"
    },
    "tags": []
   },
   "outputs": [
    {
     "data": {
      "text/html": [
       "<div>\n",
       "<style scoped>\n",
       "    .dataframe tbody tr th:only-of-type {\n",
       "        vertical-align: middle;\n",
       "    }\n",
       "\n",
       "    .dataframe tbody tr th {\n",
       "        vertical-align: top;\n",
       "    }\n",
       "\n",
       "    .dataframe thead th {\n",
       "        text-align: right;\n",
       "    }\n",
       "</style>\n",
       "<table border=\"1\" class=\"dataframe\">\n",
       "  <thead>\n",
       "    <tr style=\"text-align: right;\">\n",
       "      <th></th>\n",
       "      <th>text_id</th>\n",
       "      <th>text</th>\n",
       "      <th>locations</th>\n",
       "      <th>loc_markers</th>\n",
       "    </tr>\n",
       "  </thead>\n",
       "  <tbody>\n",
       "    <tr>\n",
       "      <th>0</th>\n",
       "      <td>0</td>\n",
       "      <td>#нампишут на Троещине маньяк забрал жизни уже ...</td>\n",
       "      <td>['Троещине']</td>\n",
       "      <td>[(13, 21)]</td>\n",
       "    </tr>\n",
       "    <tr>\n",
       "      <th>1</th>\n",
       "      <td>1</td>\n",
       "      <td>Патрульні взяли участь у \"Забігу в вишиванках ...</td>\n",
       "      <td>[]</td>\n",
       "      <td>[]</td>\n",
       "    </tr>\n",
       "    <tr>\n",
       "      <th>2</th>\n",
       "      <td>2</td>\n",
       "      <td>«Лети, Соколе…»: у Києві попрощались із загибл...</td>\n",
       "      <td>['Києві', 'Донбасі', 'Курдюмівка', 'Київраді',...</td>\n",
       "      <td>[(19, 24), (172, 179), (193, 203), (330, 338),...</td>\n",
       "    </tr>\n",
       "    <tr>\n",
       "      <th>3</th>\n",
       "      <td>3</td>\n",
       "      <td>Ваш вибір?\\n\\nhttps://vm.tiktok.com/ZMj8etTtY</td>\n",
       "      <td>[]</td>\n",
       "      <td>[]</td>\n",
       "    </tr>\n",
       "    <tr>\n",
       "      <th>4</th>\n",
       "      <td>4</td>\n",
       "      <td>Кабмін звільнив голову Держагентства з управлі...</td>\n",
       "      <td>[]</td>\n",
       "      <td>[]</td>\n",
       "    </tr>\n",
       "  </tbody>\n",
       "</table>\n",
       "</div>"
      ],
      "text/plain": [
       "   text_id                                               text  \\\n",
       "0        0  #нампишут на Троещине маньяк забрал жизни уже ...   \n",
       "1        1  Патрульні взяли участь у \"Забігу в вишиванках ...   \n",
       "2        2  «Лети, Соколе…»: у Києві попрощались із загибл...   \n",
       "3        3      Ваш вибір?\\n\\nhttps://vm.tiktok.com/ZMj8etTtY   \n",
       "4        4  Кабмін звільнив голову Держагентства з управлі...   \n",
       "\n",
       "                                           locations  \\\n",
       "0                                       ['Троещине']   \n",
       "1                                                 []   \n",
       "2  ['Києві', 'Донбасі', 'Курдюмівка', 'Київраді',...   \n",
       "3                                                 []   \n",
       "4                                                 []   \n",
       "\n",
       "                                         loc_markers  \n",
       "0                                         [(13, 21)]  \n",
       "1                                                 []  \n",
       "2  [(19, 24), (172, 179), (193, 203), (330, 338),...  \n",
       "3                                                 []  \n",
       "4                                                 []  "
      ]
     },
     "execution_count": 19,
     "metadata": {},
     "output_type": "execute_result"
    }
   ],
   "source": [
    "df.head()"
   ]
  },
  {
   "cell_type": "code",
   "execution_count": 20,
   "id": "30b20886",
   "metadata": {
    "execution": {
     "iopub.execute_input": "2023-12-11T21:21:08.832499Z",
     "iopub.status.busy": "2023-12-11T21:21:08.831675Z",
     "iopub.status.idle": "2023-12-11T21:21:08.854615Z",
     "shell.execute_reply": "2023-12-11T21:21:08.853730Z"
    },
    "papermill": {
     "duration": 0.042898,
     "end_time": "2023-12-11T21:21:08.857187",
     "exception": false,
     "start_time": "2023-12-11T21:21:08.814289",
     "status": "completed"
    },
    "tags": []
   },
   "outputs": [],
   "source": [
    "df.set_index('text_id', inplace=True)\n",
    "df.to_csv('/kaggle/working/submission.csv')"
   ]
  },
  {
   "cell_type": "code",
   "execution_count": 21,
   "id": "b0467769",
   "metadata": {
    "execution": {
     "iopub.execute_input": "2023-12-11T21:21:08.891945Z",
     "iopub.status.busy": "2023-12-11T21:21:08.891149Z",
     "iopub.status.idle": "2023-12-11T21:21:08.906670Z",
     "shell.execute_reply": "2023-12-11T21:21:08.905513Z"
    },
    "papermill": {
     "duration": 0.036255,
     "end_time": "2023-12-11T21:21:08.909501",
     "exception": false,
     "start_time": "2023-12-11T21:21:08.873246",
     "status": "completed"
    },
    "tags": []
   },
   "outputs": [],
   "source": [
    "dff = pd.read_csv(\"/kaggle/input/nlp-telegram-locations-extractions/labeling_sample.csv\")"
   ]
  },
  {
   "cell_type": "code",
   "execution_count": 22,
   "id": "9fbe8569",
   "metadata": {
    "execution": {
     "iopub.execute_input": "2023-12-11T21:21:08.944822Z",
     "iopub.status.busy": "2023-12-11T21:21:08.944232Z",
     "iopub.status.idle": "2023-12-11T21:21:08.955020Z",
     "shell.execute_reply": "2023-12-11T21:21:08.953833Z"
    },
    "papermill": {
     "duration": 0.031229,
     "end_time": "2023-12-11T21:21:08.957651",
     "exception": false,
     "start_time": "2023-12-11T21:21:08.926422",
     "status": "completed"
    },
    "tags": []
   },
   "outputs": [
    {
     "data": {
      "text/html": [
       "<div>\n",
       "<style scoped>\n",
       "    .dataframe tbody tr th:only-of-type {\n",
       "        vertical-align: middle;\n",
       "    }\n",
       "\n",
       "    .dataframe tbody tr th {\n",
       "        vertical-align: top;\n",
       "    }\n",
       "\n",
       "    .dataframe thead th {\n",
       "        text-align: right;\n",
       "    }\n",
       "</style>\n",
       "<table border=\"1\" class=\"dataframe\">\n",
       "  <thead>\n",
       "    <tr style=\"text-align: right;\">\n",
       "      <th></th>\n",
       "      <th>text</th>\n",
       "      <th>locations</th>\n",
       "      <th>loc_markers</th>\n",
       "    </tr>\n",
       "  </thead>\n",
       "  <tbody>\n",
       "    <tr>\n",
       "      <th>0</th>\n",
       "      <td>Ще маємо всього 3 такі сувенірні ящички від БК...</td>\n",
       "      <td>[]</td>\n",
       "      <td>[]</td>\n",
       "    </tr>\n",
       "    <tr>\n",
       "      <th>1</th>\n",
       "      <td>В результате массированной атаки врага ночью в...</td>\n",
       "      <td>['Фастовском', 'Бучанском']</td>\n",
       "      <td>[(47, 57), (60, 69)]</td>\n",
       "    </tr>\n",
       "    <tr>\n",
       "      <th>2</th>\n",
       "      <td>Дивно що на сам спортивний майданчик не заїхав...</td>\n",
       "      <td>[\"вул. Солом'янська, 28\"]</td>\n",
       "      <td>[(61, 82)]</td>\n",
       "    </tr>\n",
       "    <tr>\n",
       "      <th>3</th>\n",
       "      <td>Найяскравіший і найбільший Місяць 2023 року</td>\n",
       "      <td>[]</td>\n",
       "      <td>[]</td>\n",
       "    </tr>\n",
       "    <tr>\n",
       "      <th>4</th>\n",
       "      <td>😱 Жесть на Троєщині хлопця пирнули ножем на зу...</td>\n",
       "      <td>['Троєщині']</td>\n",
       "      <td>[(11, 19)]</td>\n",
       "    </tr>\n",
       "  </tbody>\n",
       "</table>\n",
       "</div>"
      ],
      "text/plain": [
       "                                                text  \\\n",
       "0  Ще маємо всього 3 такі сувенірні ящички від БК...   \n",
       "1  В результате массированной атаки врага ночью в...   \n",
       "2  Дивно що на сам спортивний майданчик не заїхав...   \n",
       "3        Найяскравіший і найбільший Місяць 2023 року   \n",
       "4  😱 Жесть на Троєщині хлопця пирнули ножем на зу...   \n",
       "\n",
       "                     locations           loc_markers  \n",
       "0                           []                    []  \n",
       "1  ['Фастовском', 'Бучанском']  [(47, 57), (60, 69)]  \n",
       "2    [\"вул. Солом'янська, 28\"]            [(61, 82)]  \n",
       "3                           []                    []  \n",
       "4                 ['Троєщині']            [(11, 19)]  "
      ]
     },
     "execution_count": 22,
     "metadata": {},
     "output_type": "execute_result"
    }
   ],
   "source": [
    "dff.head()"
   ]
  }
 ],
 "metadata": {
  "kaggle": {
   "accelerator": "none",
   "dataSources": [
    {
     "databundleVersionId": 7150560,
     "sourceId": 65011,
     "sourceType": "competition"
    }
   ],
   "dockerImageVersionId": 30615,
   "isGpuEnabled": false,
   "isInternetEnabled": true,
   "language": "python",
   "sourceType": "notebook"
  },
  "kernelspec": {
   "display_name": "Python 3",
   "language": "python",
   "name": "python3"
  },
  "language_info": {
   "codemirror_mode": {
    "name": "ipython",
    "version": 3
   },
   "file_extension": ".py",
   "mimetype": "text/x-python",
   "name": "python",
   "nbconvert_exporter": "python",
   "pygments_lexer": "ipython3",
   "version": "3.10.12"
  },
  "papermill": {
   "default_parameters": {},
   "duration": 127.194272,
   "end_time": "2023-12-11T21:21:10.399271",
   "environment_variables": {},
   "exception": null,
   "input_path": "__notebook__.ipynb",
   "output_path": "__notebook__.ipynb",
   "parameters": {},
   "start_time": "2023-12-11T21:19:03.204999",
   "version": "2.4.0"
  }
 },
 "nbformat": 4,
 "nbformat_minor": 5
}
